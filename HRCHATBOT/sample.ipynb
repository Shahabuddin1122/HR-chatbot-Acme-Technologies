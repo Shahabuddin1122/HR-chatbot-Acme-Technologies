{
 "cells": [
  {
   "metadata": {},
   "cell_type": "markdown",
   "source": [
    "# This is a sample Jupyter Notebook\n",
    "\n",
    "Below is an example of a code cell. \n",
    "Put your cursor into the cell and press Shift+Enter to execute it and select the next one, or click !here goes the icon of the corresponding button in the gutter! button.\n",
    "To debug a cell, press Alt+Shift+Enter, or click !here goes the icon of the corresponding button in the gutter! button.\n",
    "\n",
    "Press Double Shift to search everywhere for classes, files, tool windows, actions, and settings.\n",
    "\n",
    "To learn more about Jupyter Notebooks in PyCharm, see [help](https://www.jetbrains.com/help/pycharm/jupyter-notebook-support.html).\n",
    "For an overview of PyCharm, go to Help -> Learn IDE features or refer to [our documentation](https://www.jetbrains.com/help/pycharm/getting-started.html)."
   ],
   "id": "8a77807f92f26ee"
  },
  {
   "metadata": {
    "ExecuteTime": {
     "end_time": "2024-10-07T14:50:25.915115Z",
     "start_time": "2024-10-07T14:50:19.239136Z"
    }
   },
   "cell_type": "code",
   "source": "!pip install langchain python-dotenv langchain-community langchain-groq google-generativeai",
   "id": "8a32cc57bedc49a1",
   "outputs": [
    {
     "name": "stdout",
     "output_type": "stream",
     "text": [
      "Defaulting to user installation because normal site-packages is not writeable\n",
      "Requirement already satisfied: langchain in c:\\users\\shahabuddin akhon hr\\appdata\\roaming\\python\\python312\\site-packages (0.3.2)\n",
      "Requirement already satisfied: python-dotenv in c:\\programdata\\anaconda3\\lib\\site-packages (0.21.0)\n",
      "Requirement already satisfied: langchain-community in c:\\users\\shahabuddin akhon hr\\appdata\\roaming\\python\\python312\\site-packages (0.3.1)\n",
      "Requirement already satisfied: langchain-groq in c:\\users\\shahabuddin akhon hr\\appdata\\roaming\\python\\python312\\site-packages (0.2.0)\n",
      "Requirement already satisfied: google-generativeai in c:\\users\\shahabuddin akhon hr\\appdata\\roaming\\python\\python312\\site-packages (0.8.2)\n",
      "Requirement already satisfied: PyYAML>=5.3 in c:\\programdata\\anaconda3\\lib\\site-packages (from langchain) (6.0.1)\n",
      "Requirement already satisfied: SQLAlchemy<3,>=1.4 in c:\\programdata\\anaconda3\\lib\\site-packages (from langchain) (2.0.30)\n",
      "Requirement already satisfied: aiohttp<4.0.0,>=3.8.3 in c:\\programdata\\anaconda3\\lib\\site-packages (from langchain) (3.9.5)\n",
      "Requirement already satisfied: langchain-core<0.4.0,>=0.3.8 in c:\\users\\shahabuddin akhon hr\\appdata\\roaming\\python\\python312\\site-packages (from langchain) (0.3.9)\n",
      "Requirement already satisfied: langchain-text-splitters<0.4.0,>=0.3.0 in c:\\users\\shahabuddin akhon hr\\appdata\\roaming\\python\\python312\\site-packages (from langchain) (0.3.0)\n",
      "Requirement already satisfied: langsmith<0.2.0,>=0.1.17 in c:\\users\\shahabuddin akhon hr\\appdata\\roaming\\python\\python312\\site-packages (from langchain) (0.1.131)\n",
      "Requirement already satisfied: numpy<2.0.0,>=1.26.0 in c:\\programdata\\anaconda3\\lib\\site-packages (from langchain) (1.26.4)\n",
      "Requirement already satisfied: pydantic<3.0.0,>=2.7.4 in c:\\users\\shahabuddin akhon hr\\appdata\\roaming\\python\\python312\\site-packages (from langchain) (2.9.2)\n",
      "Requirement already satisfied: requests<3,>=2 in c:\\programdata\\anaconda3\\lib\\site-packages (from langchain) (2.32.2)\n",
      "Requirement already satisfied: tenacity!=8.4.0,<9.0.0,>=8.1.0 in c:\\users\\shahabuddin akhon hr\\appdata\\roaming\\python\\python312\\site-packages (from langchain) (8.5.0)\n",
      "Requirement already satisfied: dataclasses-json<0.7,>=0.5.7 in c:\\users\\shahabuddin akhon hr\\appdata\\roaming\\python\\python312\\site-packages (from langchain-community) (0.6.7)\n",
      "Requirement already satisfied: pydantic-settings<3.0.0,>=2.4.0 in c:\\users\\shahabuddin akhon hr\\appdata\\roaming\\python\\python312\\site-packages (from langchain-community) (2.5.2)\n",
      "Requirement already satisfied: groq<1,>=0.4.1 in c:\\users\\shahabuddin akhon hr\\appdata\\roaming\\python\\python312\\site-packages (from langchain-groq) (0.11.0)\n",
      "Requirement already satisfied: google-ai-generativelanguage==0.6.10 in c:\\users\\shahabuddin akhon hr\\appdata\\roaming\\python\\python312\\site-packages (from google-generativeai) (0.6.10)\n",
      "Requirement already satisfied: google-api-core in c:\\users\\shahabuddin akhon hr\\appdata\\roaming\\python\\python312\\site-packages (from google-generativeai) (2.20.0)\n",
      "Requirement already satisfied: google-api-python-client in c:\\users\\shahabuddin akhon hr\\appdata\\roaming\\python\\python312\\site-packages (from google-generativeai) (2.147.0)\n",
      "Requirement already satisfied: google-auth>=2.15.0 in c:\\users\\shahabuddin akhon hr\\appdata\\roaming\\python\\python312\\site-packages (from google-generativeai) (2.35.0)\n",
      "Requirement already satisfied: protobuf in c:\\users\\shahabuddin akhon hr\\appdata\\roaming\\python\\python312\\site-packages (from google-generativeai) (5.28.2)\n",
      "Requirement already satisfied: tqdm in c:\\programdata\\anaconda3\\lib\\site-packages (from google-generativeai) (4.66.4)\n",
      "Requirement already satisfied: typing-extensions in c:\\programdata\\anaconda3\\lib\\site-packages (from google-generativeai) (4.11.0)\n",
      "Requirement already satisfied: proto-plus<2.0.0dev,>=1.22.3 in c:\\users\\shahabuddin akhon hr\\appdata\\roaming\\python\\python312\\site-packages (from google-ai-generativelanguage==0.6.10->google-generativeai) (1.24.0)\n",
      "Requirement already satisfied: aiosignal>=1.1.2 in c:\\programdata\\anaconda3\\lib\\site-packages (from aiohttp<4.0.0,>=3.8.3->langchain) (1.2.0)\n",
      "Requirement already satisfied: attrs>=17.3.0 in c:\\programdata\\anaconda3\\lib\\site-packages (from aiohttp<4.0.0,>=3.8.3->langchain) (23.1.0)\n",
      "Requirement already satisfied: frozenlist>=1.1.1 in c:\\programdata\\anaconda3\\lib\\site-packages (from aiohttp<4.0.0,>=3.8.3->langchain) (1.4.0)\n",
      "Requirement already satisfied: multidict<7.0,>=4.5 in c:\\programdata\\anaconda3\\lib\\site-packages (from aiohttp<4.0.0,>=3.8.3->langchain) (6.0.4)\n",
      "Requirement already satisfied: yarl<2.0,>=1.0 in c:\\programdata\\anaconda3\\lib\\site-packages (from aiohttp<4.0.0,>=3.8.3->langchain) (1.9.3)\n",
      "Requirement already satisfied: marshmallow<4.0.0,>=3.18.0 in c:\\users\\shahabuddin akhon hr\\appdata\\roaming\\python\\python312\\site-packages (from dataclasses-json<0.7,>=0.5.7->langchain-community) (3.22.0)\n",
      "Requirement already satisfied: typing-inspect<1,>=0.4.0 in c:\\users\\shahabuddin akhon hr\\appdata\\roaming\\python\\python312\\site-packages (from dataclasses-json<0.7,>=0.5.7->langchain-community) (0.9.0)\n",
      "Requirement already satisfied: googleapis-common-protos<2.0.dev0,>=1.56.2 in c:\\users\\shahabuddin akhon hr\\appdata\\roaming\\python\\python312\\site-packages (from google-api-core->google-generativeai) (1.65.0)\n",
      "Requirement already satisfied: cachetools<6.0,>=2.0.0 in c:\\programdata\\anaconda3\\lib\\site-packages (from google-auth>=2.15.0->google-generativeai) (5.3.3)\n",
      "Requirement already satisfied: pyasn1-modules>=0.2.1 in c:\\programdata\\anaconda3\\lib\\site-packages (from google-auth>=2.15.0->google-generativeai) (0.2.8)\n",
      "Requirement already satisfied: rsa<5,>=3.1.4 in c:\\users\\shahabuddin akhon hr\\appdata\\roaming\\python\\python312\\site-packages (from google-auth>=2.15.0->google-generativeai) (4.9)\n",
      "Requirement already satisfied: anyio<5,>=3.5.0 in c:\\programdata\\anaconda3\\lib\\site-packages (from groq<1,>=0.4.1->langchain-groq) (4.2.0)\n",
      "Requirement already satisfied: distro<2,>=1.7.0 in c:\\programdata\\anaconda3\\lib\\site-packages (from groq<1,>=0.4.1->langchain-groq) (1.9.0)\n",
      "Requirement already satisfied: httpx<1,>=0.23.0 in c:\\users\\shahabuddin akhon hr\\appdata\\roaming\\python\\python312\\site-packages (from groq<1,>=0.4.1->langchain-groq) (0.27.2)\n",
      "Requirement already satisfied: sniffio in c:\\programdata\\anaconda3\\lib\\site-packages (from groq<1,>=0.4.1->langchain-groq) (1.3.0)\n",
      "Requirement already satisfied: jsonpatch<2.0,>=1.33 in c:\\programdata\\anaconda3\\lib\\site-packages (from langchain-core<0.4.0,>=0.3.8->langchain) (1.33)\n",
      "Requirement already satisfied: packaging<25,>=23.2 in c:\\programdata\\anaconda3\\lib\\site-packages (from langchain-core<0.4.0,>=0.3.8->langchain) (23.2)\n",
      "Requirement already satisfied: orjson<4.0.0,>=3.9.14 in c:\\users\\shahabuddin akhon hr\\appdata\\roaming\\python\\python312\\site-packages (from langsmith<0.2.0,>=0.1.17->langchain) (3.10.7)\n",
      "Requirement already satisfied: requests-toolbelt<2.0.0,>=1.0.0 in c:\\programdata\\anaconda3\\lib\\site-packages (from langsmith<0.2.0,>=0.1.17->langchain) (1.0.0)\n",
      "Requirement already satisfied: annotated-types>=0.6.0 in c:\\programdata\\anaconda3\\lib\\site-packages (from pydantic<3.0.0,>=2.7.4->langchain) (0.6.0)\n",
      "Requirement already satisfied: pydantic-core==2.23.4 in c:\\users\\shahabuddin akhon hr\\appdata\\roaming\\python\\python312\\site-packages (from pydantic<3.0.0,>=2.7.4->langchain) (2.23.4)\n",
      "Requirement already satisfied: charset-normalizer<4,>=2 in c:\\programdata\\anaconda3\\lib\\site-packages (from requests<3,>=2->langchain) (2.0.4)\n",
      "Requirement already satisfied: idna<4,>=2.5 in c:\\programdata\\anaconda3\\lib\\site-packages (from requests<3,>=2->langchain) (3.7)\n",
      "Requirement already satisfied: urllib3<3,>=1.21.1 in c:\\programdata\\anaconda3\\lib\\site-packages (from requests<3,>=2->langchain) (2.2.2)\n",
      "Requirement already satisfied: certifi>=2017.4.17 in c:\\programdata\\anaconda3\\lib\\site-packages (from requests<3,>=2->langchain) (2024.6.2)\n",
      "Requirement already satisfied: greenlet!=0.4.17 in c:\\programdata\\anaconda3\\lib\\site-packages (from SQLAlchemy<3,>=1.4->langchain) (3.0.1)\n",
      "Requirement already satisfied: httplib2<1.dev0,>=0.19.0 in c:\\users\\shahabuddin akhon hr\\appdata\\roaming\\python\\python312\\site-packages (from google-api-python-client->google-generativeai) (0.22.0)\n",
      "Requirement already satisfied: google-auth-httplib2<1.0.0,>=0.2.0 in c:\\users\\shahabuddin akhon hr\\appdata\\roaming\\python\\python312\\site-packages (from google-api-python-client->google-generativeai) (0.2.0)\n",
      "Requirement already satisfied: uritemplate<5,>=3.0.1 in c:\\users\\shahabuddin akhon hr\\appdata\\roaming\\python\\python312\\site-packages (from google-api-python-client->google-generativeai) (4.1.1)\n",
      "Requirement already satisfied: colorama in c:\\programdata\\anaconda3\\lib\\site-packages (from tqdm->google-generativeai) (0.4.6)\n",
      "Requirement already satisfied: grpcio<2.0dev,>=1.33.2 in c:\\users\\shahabuddin akhon hr\\appdata\\roaming\\python\\python312\\site-packages (from google-api-core[grpc]!=2.0.*,!=2.1.*,!=2.10.*,!=2.2.*,!=2.3.*,!=2.4.*,!=2.5.*,!=2.6.*,!=2.7.*,!=2.8.*,!=2.9.*,<3.0.0dev,>=1.34.1->google-ai-generativelanguage==0.6.10->google-generativeai) (1.66.2)\n",
      "Requirement already satisfied: grpcio-status<2.0.dev0,>=1.33.2 in c:\\users\\shahabuddin akhon hr\\appdata\\roaming\\python\\python312\\site-packages (from google-api-core[grpc]!=2.0.*,!=2.1.*,!=2.10.*,!=2.2.*,!=2.3.*,!=2.4.*,!=2.5.*,!=2.6.*,!=2.7.*,!=2.8.*,!=2.9.*,<3.0.0dev,>=1.34.1->google-ai-generativelanguage==0.6.10->google-generativeai) (1.66.2)\n",
      "Requirement already satisfied: pyparsing!=3.0.0,!=3.0.1,!=3.0.2,!=3.0.3,<4,>=2.4.2 in c:\\programdata\\anaconda3\\lib\\site-packages (from httplib2<1.dev0,>=0.19.0->google-api-python-client->google-generativeai) (3.0.9)\n",
      "Requirement already satisfied: httpcore==1.* in c:\\users\\shahabuddin akhon hr\\appdata\\roaming\\python\\python312\\site-packages (from httpx<1,>=0.23.0->groq<1,>=0.4.1->langchain-groq) (1.0.6)\n",
      "Requirement already satisfied: h11<0.15,>=0.13 in c:\\users\\shahabuddin akhon hr\\appdata\\roaming\\python\\python312\\site-packages (from httpcore==1.*->httpx<1,>=0.23.0->groq<1,>=0.4.1->langchain-groq) (0.14.0)\n",
      "Requirement already satisfied: jsonpointer>=1.9 in c:\\programdata\\anaconda3\\lib\\site-packages (from jsonpatch<2.0,>=1.33->langchain-core<0.4.0,>=0.3.8->langchain) (2.1)\n",
      "Requirement already satisfied: pyasn1<0.5.0,>=0.4.6 in c:\\programdata\\anaconda3\\lib\\site-packages (from pyasn1-modules>=0.2.1->google-auth>=2.15.0->google-generativeai) (0.4.8)\n",
      "Requirement already satisfied: mypy-extensions>=0.3.0 in c:\\programdata\\anaconda3\\lib\\site-packages (from typing-inspect<1,>=0.4.0->dataclasses-json<0.7,>=0.5.7->langchain-community) (1.0.0)\n"
     ]
    }
   ],
   "execution_count": 5
  },
  {
   "metadata": {
    "ExecuteTime": {
     "end_time": "2024-10-07T15:47:12.055581Z",
     "start_time": "2024-10-07T15:47:09.900104Z"
    }
   },
   "cell_type": "code",
   "source": [
    "import os\n",
    "import dotenv\n",
    "from langchain_community.document_loaders import TextLoader\n",
    "from langchain.text_splitter import RecursiveCharacterTextSplitter\n",
    "\n",
    "dotenv.load_dotenv()"
   ],
   "id": "dff0332810de71cf",
   "outputs": [
    {
     "data": {
      "text/plain": [
       "True"
      ]
     },
     "execution_count": 1,
     "metadata": {},
     "output_type": "execute_result"
    }
   ],
   "execution_count": 1
  },
  {
   "metadata": {
    "ExecuteTime": {
     "end_time": "2024-10-06T18:20:57.737598Z",
     "start_time": "2024-10-06T18:20:57.732115Z"
    }
   },
   "cell_type": "code",
   "source": [
    "loader = TextLoader('data.txt')\n",
    "doc = loader.load()\n",
    "doc"
   ],
   "id": "ab46f75862c3e5ee",
   "outputs": [
    {
     "data": {
      "text/plain": [
       "[Document(metadata={'source': 'data.txt'}, page_content=\"###Question###\\nWho you are?,\\n###Answer###\\nYou are a chatbot designed for ACME Technologies Ltd to answer HR-related questions. Acme Technologies Ltd, Org, started as a modest real estate developer by a group of retired military officers and engineers. Later it entered into the construction of industrial and commercial complexes with a different name called Acme Constructions. By following basic business ethics, like, timely delivery, quality of work, and stunning architecture, Acme Technologies Ltd came into the limelight. \\\\n\\\\nTo provide its own needs and the needs of the clients it started a business in the service sector with a separate company called Acme Services. \\\\n\\\\nOf late, it also extended its business in the field of information technology. Its venture in IT is named Acme AI. Itâ€™s mainly doing annotation now but in the future, it plans to enter the other fields of IT to be a part of smart Bangladesh.,\\n\\n###Question###\\nWhat is the meaning of HR?,\\n###Answer###\\nHR stands for Human\\\\nResources. It's a department within organizations responsible for managing\\\\nemployee relations, hiring, training, benefits, and other personnel-related\\\\nfunctions.,\\n\\n###Question###\\nWhat are HR Policies?,\\n###Answer###\\nHR policies are\\\\nguidelines that companies set for employee relations in the workplace. These\\\\nstandardized rules ensure consistency by defining acceptable behavior,\\\\noutlining employee expectations, detailing disciplinary procedures, and\\\\nspecifying organizational responsibilities. Companies implement these policies\\\\nto demonstrate their commitment to regulatory compliance, minimum employment\\\\nstandards, training, diversity, and ethical practices.,\\n\\n###Question###\\nWhat is The Leave Policy?,\\n###Answer###\\nAnnual Leave (AL)\\\\n\\\\nEmployees who have worked\\\\ncontinuously for a period of 01(one) year shall be entitled to 20 (twenty) days paid annual leave in\\\\nthe every subsequent 12 (twelve) months of service.\\\\n\\\\n \\\\n\\\\nCasual Leave (CL)\\\\n\\\\n10 days in a calendar\\\\nyear. Cannot be taken for more than 01 (one) day. It can be combined with any\\\\nother leave and is non-cumulative. Allowed on pro-rata basis.\\\\n\\\\n \\\\n\\\\nSick Leave (SL)\\\\n\\\\n14 days sick leave in\\\\na calendar year. Sick leave shall only be granted on the recommendation and\\\\nunder issuance of certificate of a qualified registered doctor when it requires\\\\nmore than two (2) days (â€˜initialâ€™) to be cured, if the employee fails to\\\\nfurnish the required documents, he/she shall be treated as absent, and any such\\\\nabsence will be resulted into Leave Without Pay (LWP) during that absent\\\\nperiod. Sick leave and Causal leave cannot be carried forward and accumulation\\\\nis not allowed.,\\n\\n###Question###\\nWhat is The Communication Policy?,\\n###Answer###\\nGeneral: A corporate office uses\\\\nvarious means of communication to better manage the corporate affairs. Modern\\\\ntechnologies made these communication means vulnerable for hacking, information\\\\nleakage and various kinds of cyber attacks. To better manage the communication\\\\nissues and guard against the above threats it is important to have proper\\\\npolicies and instructions.  \\\\nAim: To lay down comprehensive\\\\npolicies and instructions to ensure unhindered communication and guard against all kinds of information breach, hacking and cyber attacks. \\\\nScope: This policy shall have instructions and directives on all\\\\ncommunication tools namely: \\\\n\\\\na.     Phones\\\\n(Land Phones, Cell Phones, IP Phones)\\\\n\\\\nb.     Email\\\\n\\\\nc.     Meetings\\\\n\\\\nd.     Internet \\\\n\\\\ne.     Social\\\\nMedia (Viber, WhatsApp, Discord, Facebook, LinkedIn, Instagram, TikTok,\\\\nYouTube)\\\\n\\\\n \\\\n\\\\nThis policy applies to all employees, contractors, suppliers and\\\\npartners of the company.           \\\\n\\\\n            \\\\n\\\\nPhones:\\\\n\\\\nVarious types of phone communication will be used in the Group\\\\nthat are given below:\\\\n\\\\na.     Land\\\\nphones: Group Acme Corporate HQ and other concerns of Group Acme can have land\\\\nphones as required to facilitate business, admin and communication needs. \\\\n\\\\n \\\\n\\\\nb.     Cell\\\\nPhones: Cell phones will be used by all the Management Staffs in the group.\\\\nPhone Sets are to be purchased individually but SIM will be provided to all the\\\\nManagement Staffs of the Group. Management staffs have to use the company\\\\nprovided SIM. In no circumstances, one will use personal SIM for official\\\\ncommunication. Selected employees will be given cell phone allowance as per the\\\\npolicy as revised time to time. List of SIMs are to be kept with HR as well as\\\\nIT depts.  \\\\n\\\\n                            \\\\ni.     Use: Limit\\\\nprivate calls and texts using official SIM/phone. \\\\n\\\\n \\\\n\\\\n                           \\\\nii.     Security:\\\\nKeep your device secured always. Report missing and theft issues to IT/HR asap.\\\\nDonâ€™t open any link or attachment from any unknown sources.\\\\n\\\\n \\\\n\\\\n                          \\\\niii.     Expenditure\\\\nManagement: Monthly phone allowance given to each employee is to be used for\\\\nvoice as well as data.\\\\n\\\\n \\\\n\\\\nc.     IP Phones:\\\\nWork stations of the Group (as required) will be provided with a IP phone.\\\\nIntra and inter office communication will be done through IP Phones. List of IP\\\\nphones and numbers are to be           kept\\\\nin the IT/HR depts. IT to ensure that all the IP Phones are operational all the\\\\ntime all the users are appropriately trained on the proper use of phones..\\\\n\\\\n                        \\\\n\\\\nEmail:\\\\n\\\\n \\\\n\\\\nEmails are most important\\\\nand reliable means of communication for the group. Following are to be adhered\\\\nto in respect of email communication:\\\\n\\\\n \\\\n\\\\na.     Official\\\\nEmail: Most of the employees (who needs to make written communication) will be\\\\nallotted with an official email address. For official written communication all\\\\nare to use official email. List of\\\\n\\\\n \\\\n\\\\nb.     official\\\\nEmails are to be kept with HR and IT. Official communication through any other\\\\nmail address is strictly forbidden. Disciplinary action will be taken for any\\\\nviolation of this instruction.\\\\n\\\\nc.     Personal\\\\nEmail: One may have personal Email but that canâ€™t be used for any official\\\\ncommunication. List of personal emails are also to be kept with HR and IT.\\\\n\\\\n \\\\n\\\\nd.     Response\\\\nTime: Emails to be responded within 24 hours during business days.\\\\n\\\\n \\\\n\\\\ne.     Language:\\\\nBoth English and Bangla can be used in email but the language has to be clear,\\\\nrespectful, concise and professional.\\\\n\\\\n \\\\n\\\\nf.       Mail\\\\nTiming: Avoid sending messages outside of working hours unless urgent.\\\\n\\\\n \\\\n\\\\nMeetings: \\\\n\\\\n \\\\n\\\\nMeeting is one of the\\\\nimportant means of communication within and outside the group. Following to be\\\\ncomplied in respect of meetings:\\\\n\\\\na.     Meetings to\\\\nbe scheduled through company approved calendar system.\\\\n\\\\nb.     Prepare\\\\nagendas and share it with participants in advance.\\\\n\\\\nc.     Start and\\\\nend meetings in time.\\\\n\\\\nd.     Follow up\\\\nwith meeting minutes and action items.\\\\n\\\\n \\\\n\\\\nInternet:\\\\n\\\\n \\\\n\\\\nInternet is the basis and carrier of all communication. Use of\\\\nInternet should be as given below:\\\\n\\\\n\\\\n Internet\\\\n     connection will be given to all work stations in the offices, to all the\\\\n     industrial construction sites, and to selected employees.\\\\n Connections to be taken\\\\n     from reliable service providers.\\\\n All SIMs are also\\\\n     to be connected with Internet.\\\\n\\\\n\\\\n \\\\n\\\\nSocial Media:\\\\n\\\\n \\\\n\\\\nFollowing\\\\nsocial media can be used in Group Acme for the purposes shown against them:\\\\n\\\\n \\\\n\\\\na.     Viber: For\\\\nreporting construction progress and for communication between employees. We\\\\nshall have following groups in the Viber: Construction, Real Estate, HR,\\\\nLogistics & Attendance.\\\\n\\\\n \\\\n\\\\nb.     WhatsApp:\\\\nFor voice and data communication between the employees. We shall have following\\\\ngroups in the WhatsApp: Chairmanâ€™s Directives, Shuddhachar, Acme Directors,\\\\nICE. Individual projects can have their own WhatsApp group.\\\\n\\\\n \\\\n\\\\nc.     Discord:\\\\nFor internal operations, admin and written communication within Acme AI and\\\\nalso with the clients.\\\\n\\\\n \\\\n\\\\nd.     Facebook:\\\\nFor branding and sales promotion of the companies of the group.\\\\n\\\\n \\\\n\\\\ne.     LinkedIn:\\\\nFor branding and promotional activities.\\\\n\\\\n \\\\n\\\\nf.        Instagram: For branding and promotional\\\\nactivities targeting the younger group.\\\\n\\\\n \\\\n\\\\ng.     TikTok: For\\\\nbranding and sales promotion.\\\\n\\\\n \\\\n\\\\nh.     YouTube:\\\\nFor branding and sales promotion.\\\\n\\\\n \\\\n\\\\nUnauthorized\\\\nuse of any of the Social Media Sites by anyone is strictly prohibited.\\\\n\\\\n \\\\n\\\\nDocumentation:\\\\n\\\\n \\\\n\\\\nDocumentation\\\\nprocess in the Group shall be as under:\\\\n\\\\n \\\\n\\\\na.     Store and\\\\nshare documents on the companyâ€™s designated cloud storage (e.g., Google Drive,\\\\nSharePoint etc).\\\\n\\\\nb.     Use\\\\nstandardized templates for reports and presentations.\\\\n\\\\nc.     Keep\\\\ndocuments organized and accessible to relevant parties.\\\\n\\\\n \\\\n\\\\nExternal Communication:\\\\n\\\\n \\\\n\\\\nFollowing\\\\nto be complied for external communication:\\\\n\\\\na.     All press\\\\nreleases, interviews, and public statements must be approved by the Chairman.\\\\nDirect media inquiries to the Chairman.\\\\n\\\\n \\\\n\\\\nb.     Employees\\\\nshould follow the companyâ€™s social media norms like avoiding posting of\\\\nconfidential or sensitive informations and being respectful and professional in\\\\nall posts related to the company.\\\\n\\\\n \\\\n\\\\nc.     Provide\\\\nclear and timely responses to customer inquiries and while interacting with the\\\\ncustomers. Use the companyâ€™s customer service channels (e.g., email, phone,\\\\nchat) for communication and maintain a professional and courteous tone.\\\\n\\\\n \\\\n\\\\nConfidentiality and\\\\nSecurity: \\\\n\\\\n \\\\n\\\\nHead of IT\\\\nalong with Head of HR will be the joint admin of the Social Media Apps. Use of\\\\nthe social medias will be according to â€˜need to use basisâ€™.\\\\n\\\\n \\\\n\\\\na.     Confidential\\\\nInformation:\\\\n\\\\n                                 \\\\nI.        \\\\nDo not share confidential information with unauthorized parties.\\\\n\\\\n                               \\\\nII.        \\\\nUse encrypted communication channels for sensitive information.\\\\n\\\\n \\\\n\\\\nd.     Data\\\\nProtection:\\\\n\\\\n                                 \\\\nI.        \\\\nFollow the companyâ€™s data protection policy.\\\\n\\\\n                               \\\\nII.        \\\\nReport any data breaches or security incidents immediately.\\\\n\\\\n \\\\n\\\\nPassword Security: \\\\n\\\\n \\\\n\\\\nFollowing\\\\nare the instructions for password:\\\\n\\\\na.     Where\\\\npossible all communication tools will be password protected. \\\\n\\\\nb.     Password\\\\nwill be disseminated on need to know basis only by the admin. \\\\n\\\\nc.     Unauthorised\\\\ndissemination of password by anyone is strictly prohibited and punishable.\\\\n\\\\n \\\\n\\\\nCompliance and Monitoring:\\\\n\\\\n \\\\n\\\\na.     Compliance:\\\\nAll employees must comply with this policy. Non-compliance will result in\\\\ndisciplinary action.\\\\n\\\\nb.     Monitoring:\\\\nThe company reserves the right to monitor communication channels to ensure\\\\ncompliance with this policy.\\\\n\\\\n \\\\n\\\\nTraining and Support:\\\\n\\\\n \\\\n\\\\na.     Training:\\\\nEmployees will receive training on effective communication practices.\\\\n\\\\nb.     Support:\\\\nFor questions or support, contact the IT or HR Departments.\\\\n\\\\n \\\\n\\\\nReview and Updates:\\\\n\\\\n \\\\n\\\\nThis policy\\\\nwill be reviewed annually and will be updated as necessary.,\\n\\n###Question###\\nHow Many Days of Annual Public\\\\n     Holidays?,\\n###Answer###\\nHolidays list \\\\n\\\\n International Mother\\\\nLanguage Day- 21st February \\\\n\\\\n Independence Day- 26 March \\\\n\\\\n Shab-e-qadr- (date depends\\\\non moon cycle) \\\\n\\\\n Eid Al-Fitr- (date depends\\\\non moon cycle) \\\\n\\\\n Bengali New Year- 14th April\\\\n LaborDay/May Day- 1st May \\\\n\\\\n Eid Al-Adha- (date depends\\\\non moon cycle) \\\\n\\\\n Victory Day- 16th December\\\\nThe Company publishes at the beginning of the calendar year a list of paid\\\\nholidays.,\\n\\n###Question###\\nWhat is Increment Policy?,\\n###Answer###\\na.       Must have completed one year in the company\\\\n\\\\nb. Increment\\\\nwill be as under    \\\\n\\\\n1. Gen increment\\\\n                                 2.5% of basic\\\\n\\\\n2. Yearly\\\\nevaluation.                             \\\\n7.5% of basic max\\\\n\\\\n3.\\\\nPromotion.                                          3% of\\\\nbasic\\\\n\\\\n4. Observations\\\\nof the directors          3% of basic max\\\\n\\\\n5. Special\\\\nachievements.                       5% of\\\\nbasic max\\\\n\\\\n6. Discipline\\\\ncases.                                \\\\n-5% of basic max,\\n\\n###Question###\\nWhat is the salary range for this position?,\\n###Answer###\\nOfficer-16K\\\\n\\\\nExecutive- 20k\\\\n\\\\nSr. Executive-24K\\\\n\\\\nAsst. Manager-30k\\\\n\\\\nDeputy Manager-40k\\\\n\\\\nManager-60k\\\\n\\\\nAsst. General Manager-80k,\\n\\n###Question###\\nTermination of employment?,\\n###Answer###\\nUnsatisfactory progress during\\\\nprobation may result in extension of the probation period or termination from\\\\nthe service, at the discretion of the Company. During the period of probation,\\\\none monthâ€™s notice or payment of one monthâ€™s Basic salary in lieu of notice\\\\nwill be required on either side for termination of employment. No reason need\\\\nbe given for such termination,\\n\\n###Question###\\nHow Will my supervisor evaluate my\\\\n     performance? Are there specific metrics I can see?,\\n###Answer###\\nFirst Three Month\\\\n\\\\nâ€¢      \\\\nPerformance evaluation\\\\n\\\\nâ€¢      \\\\nFeedback Sharing \\\\n\\\\nâ€¢      \\\\nDevelopment assessment\\\\n\\\\nâ€¢      \\\\nFollow up\\\\n\\\\n \\\\n\\\\nNext\\\\nThree Month\\\\n\\\\nâ€¢      \\\\nFinal evaluation\\\\n\\\\nâ€¢      \\\\nFeedback shared\\\\n\\\\nâ€¢      \\\\nService confirmed\\\\n\\\\nâ€¢      \\\\nDiscontinued if not\\\\nsatisfactory,\\n\\n###Question###\\nWhat are the criterias for promotion?,\\n###Answer###\\n       \\\\nNeeded for the company\\\\n\\\\n       \\\\nTo complete 2 years\\\\nservice from enrolment or from last promotion\\\\n\\\\n       \\\\nShould have vacancy\\\\n\\\\n       \\\\nPromotable in the eyes\\\\nof the majority board members,\\n\\n###Question###\\nDo You use HRM Software?,\\n###Answer###\\nwe use ERP Software where HRM\\\\nModule is included,\\n\\n###Question###\\nWhat to do if you want to resign?,\\n###Answer###\\nYou are obliged to serve\\\\nminimum for two year after recruitment. Leave the job before this period\\\\nwithout one monthâ€™s prior notice, can cause deduction of salary of one month.,\\n\\n###Question###\\nWhat is the Exit Interview Process?,\\n###Answer###\\nTo complete your exit\\\\ninterview at Acme Technologies Ltd.: \\\\n\\\\nReceive the Form: You will be\\\\ngiven an exit interview form by the HR department. Fill Out the Form: Complete\\\\nthe form with your feedback and any other required information. \\\\n\\\\n \\\\n\\\\nSchedule the Interview:\\\\nArrange a time for your exit interview with the MD and Chairman through HR. \\\\n\\\\nAttend the Interview:\\\\nParticipate in the scheduled exit interview, where you will discuss your\\\\nfeedback and experience with the MD and Chairman. This process ensures that\\\\nyour feedback is heard and considered before your departure,\\n\\n###Question###\\nWhat is the turnover rate of the company?,\\n###Answer###\\nlast year, in 2023, the\\\\nturnover rate was 74.56%.,\\n\\n###Question###\\nWhat is the Job Description?,\\n###Answer###\\nWe provide JD designation wise,\\n\\n###Question###\\nHow many departments are there in the company?,\\n###Answer###\\n       \\\\nConstruction\\\\n\\\\n      \\\\nReal Estate\\\\n\\\\n       \\\\nAccounts\\\\n\\\\n       \\\\nLogistic \\\\n\\\\n       \\\\nMarketing\\\\n\\\\n       \\\\nHR\\\\n\\\\n       \\\\nIT\\\\n\\\\n       \\\\nBudget\\\\n\\\\n       \\\\nAudit\\\\n\\\\n       \\\\nBizdev,\\n\\n###Question###\\nWhat kind of working environment\\\\n     will you give me?,\\n###Answer###\\nI expect collaboration,\\\\nstructured hours, effective communication, access to resources, a supportive\\\\nculture, and potential flexibility for remote work, varying by\\\\ncompany and industry.,\\n\\n###Question###\\nHow many hours is the general\\\\n     working time?,\\n###Answer###\\nGeneral Working time 8 Hrs\\\\nper day,\\n\\n###Question###\\nIs there any over time?,\\n###Answer###\\nno, our company donâ€™t allow\\\\nover time,\\n\\n###Question###\\nAre there any facilities to stay and\\\\n     eat?,\\n###Answer###\\nThere is no facilities to\\\\nstay and eat,\\n\\n###Question###\\nWhat percentage of Eid bonus is\\\\n     there?,\\n###Answer###\\nTwo festival bonuses are paid\\\\nto the eligible employee in a year during 2 Eid festivals, each equivalent to\\\\n50% of last drawn gross salary.\\\\n\\\\nFor new joiners, bonus is\\\\ndisbursed based on the following table when they\\\\n\\\\nhave not completed 6 months or not been permanent:\\\\n\\\\n\\\\n \\\\n  \\\\n  Service Tenure\\\\n  \\\\n  \\\\n  Bonus amount\\\\n  \\\\n \\\\n \\\\n  \\\\n  0 days to <1 months\\\\n  \\\\n  \\\\n  0%\\\\n  \\\\n \\\\n \\\\n  \\\\n  1 months to <2 months\\\\n  \\\\n  \\\\n  4.16% of the gross salary\\\\n  \\\\n \\\\n \\\\n  \\\\n  2 months to <3 months\\\\n  \\\\n  \\\\n  8.32% of the gross salary\\\\n  \\\\n \\\\n \\\\n  \\\\n  3 months to <4 months\\\\n  \\\\n  \\\\n  12.48% of the gross salary\\\\n  \\\\n \\\\n \\\\n  \\\\n  4 months to <5 months\\\\n  \\\\n  \\\\n  16.64% of the gross salary\\\\n  \\\\n \\\\n \\\\n  \\\\n  5 months to <6 months\\\\n  \\\\n  \\\\n  20.8% of the gross salary\\\\n  \\\\n \\\\n \\\\n  \\\\n  6 months and above\\\\n  \\\\n  \\\\n  50% of the  gross salary,\\n\\n###Question###\\nProvident fund, gratuity or not?,\\n###Answer###\\nwe donâ€™t have any policy\\\\nabout provident fund & Gratuity.,\\n\\n###Question###\\nAny extra payment on weekly, public\\\\n     holiday duties?,\\n###Answer###\\nno, We donâ€™t pay any extra payment on weekly pubic holiday duties,\\n\\n###Question###\\nWhat is the duration of\\\\n     apprenticeship and whether there are any increments during regularization?,\\n###Answer###\\nThe Duration apprenticeship\\\\nis 6 month & if his/her performance is satisfactory we provide increments\\\\nafter being permanent.,\\n\\n###Question###\\nWhat is your reporting system?,\\n###Answer###\\nAll Employee need to report\\\\nhis/her Immediate Senior Officer.\\n\")]"
      ]
     },
     "execution_count": 30,
     "metadata": {},
     "output_type": "execute_result"
    }
   ],
   "execution_count": 30
  },
  {
   "metadata": {
    "ExecuteTime": {
     "end_time": "2024-10-06T18:21:06.019473Z",
     "start_time": "2024-10-06T18:21:06.014628Z"
    }
   },
   "cell_type": "code",
   "source": [
    "text_splitter = RecursiveCharacterTextSplitter(\n",
    "    chunk_size=1000,\n",
    "    chunk_overlap=200\n",
    ")\n",
    "texts = text_splitter.split_documents(doc)"
   ],
   "id": "1d9784868a70e263",
   "outputs": [],
   "execution_count": 31
  },
  {
   "metadata": {
    "ExecuteTime": {
     "end_time": "2024-10-06T18:21:35.828449Z",
     "start_time": "2024-10-06T18:21:35.823497Z"
    }
   },
   "cell_type": "code",
   "source": "texts[0]",
   "id": "87d905714c8c6aed",
   "outputs": [
    {
     "data": {
      "text/plain": [
       "Document(metadata={'source': 'data.txt'}, page_content='###Question###\\nWho you are?,\\n###Answer###\\nYou are a chatbot designed for ACME Technologies Ltd to answer HR-related questions. Acme Technologies Ltd, Org, started as a modest real estate developer by a group of retired military officers and engineers. Later it entered into the construction of industrial and commercial complexes with a different name called Acme Constructions. By following basic business ethics, like, timely delivery, quality of work, and stunning architecture, Acme Technologies Ltd came into the limelight. \\\\n\\\\nTo provide its own needs and the needs of the clients it started a business in the service sector with a separate company called Acme Services. \\\\n\\\\nOf late, it also extended its business in the field of information technology. Its venture in IT is named Acme AI. Itâ€™s mainly doing annotation now but in the future, it plans to enter the other fields of IT to be a part of smart Bangladesh.,')"
      ]
     },
     "execution_count": 34,
     "metadata": {},
     "output_type": "execute_result"
    }
   ],
   "execution_count": 34
  },
  {
   "metadata": {
    "ExecuteTime": {
     "end_time": "2024-10-07T15:48:14.289833Z",
     "start_time": "2024-10-07T15:48:14.277615Z"
    }
   },
   "cell_type": "code",
   "source": [
    "import pandas as pd\n",
    "\n",
    "data = pd.read_csv('HR_DOC_Sheet1.csv')\n",
    "data = data[:99]\n"
   ],
   "id": "61d81105f8f2c9b",
   "outputs": [],
   "execution_count": 5
  },
  {
   "metadata": {
    "ExecuteTime": {
     "end_time": "2024-10-07T15:48:15.913379Z",
     "start_time": "2024-10-07T15:48:15.906290Z"
    }
   },
   "cell_type": "code",
   "source": "len(data)",
   "id": "8d5ed0d1bb82c55d",
   "outputs": [
    {
     "data": {
      "text/plain": [
       "99"
      ]
     },
     "execution_count": 6,
     "metadata": {},
     "output_type": "execute_result"
    }
   ],
   "execution_count": 6
  },
  {
   "metadata": {
    "ExecuteTime": {
     "end_time": "2024-10-07T15:48:23.473809Z",
     "start_time": "2024-10-07T15:48:17.664795Z"
    }
   },
   "cell_type": "code",
   "source": [
    "import chromadb\n",
    "import uuid\n",
    "import pandas as pd\n",
    "\n",
    "# Initialize the ChromaDB client and collection\n",
    "client = chromadb.PersistentClient('vectordb')\n",
    "collection = client.get_or_create_collection(name=\"portfolio\")\n",
    "\n",
    "batch_size = 25  # Adjust batch size based on performance testing\n",
    "count = 0\n",
    "errors = 0\n",
    "failed_rows = []\n",
    "\n",
    "# Check if the collection is empty before adding new documents\n",
    "if not collection.count():\n",
    "    batch_questions = []\n",
    "    batch_answers = []\n",
    "    batch_ids = []\n",
    "    \n",
    "    for index, row in data.iterrows():\n",
    "        question = row['Question']\n",
    "        answer = row['Answer']\n",
    "        \n",
    "        # Check for missing values and skip if either is missing\n",
    "        if pd.isna(question) or pd.isna(answer):\n",
    "            errors += 1\n",
    "            print(f\"Skipping row {index}: Missing 'Question' or 'Answer'.\")\n",
    "            continue\n",
    "        \n",
    "        try:\n",
    "            # Collect documents in batches\n",
    "            batch_questions.append(question)\n",
    "            batch_answers.append({\"Answer\": answer})\n",
    "            batch_ids.append(str(uuid.uuid4()))\n",
    "            \n",
    "            # Add the batch when the batch size is reached\n",
    "            if len(batch_questions) == batch_size:\n",
    "                collection.add(documents=batch_questions, metadatas=batch_answers, ids=batch_ids)\n",
    "                count += len(batch_questions)\n",
    "                batch_questions.clear()\n",
    "                batch_answers.clear()\n",
    "                batch_ids.clear()\n",
    "        except Exception as e:\n",
    "            errors += 1\n",
    "            failed_rows.append(index)\n",
    "            print(f\"Error on row {index}: {e}\")\n",
    "    \n",
    "    # Add remaining documents in the last batch if any\n",
    "    if batch_questions:\n",
    "        try:\n",
    "            collection.add(documents=batch_questions, metadatas=batch_answers, ids=batch_ids)\n",
    "            count += len(batch_questions)\n",
    "        except Exception as e:\n",
    "            errors += 1\n",
    "            failed_rows.extend(range(len(batch_questions)))\n",
    "            print(f\"Error on remaining rows: {e}\")\n",
    "    "
   ],
   "id": "fd8143393ecf0a7c",
   "outputs": [],
   "execution_count": 7
  },
  {
   "metadata": {
    "ExecuteTime": {
     "end_time": "2024-10-07T15:48:26.410640Z",
     "start_time": "2024-10-07T15:48:26.401558Z"
    }
   },
   "cell_type": "code",
   "source": [
    "    print(f\"Total documents added: {collection.count()}\")\n",
    "    print(f\"Total errors: {errors}\")\n",
    "    print(f\"Failed rows: {failed_rows}\")"
   ],
   "id": "d426801a046c3288",
   "outputs": [
    {
     "name": "stdout",
     "output_type": "stream",
     "text": [
      "Total documents added: 99\n",
      "Total errors: 0\n",
      "Failed rows: []\n"
     ]
    }
   ],
   "execution_count": 8
  },
  {
   "metadata": {
    "ExecuteTime": {
     "end_time": "2024-10-07T15:51:43.434763Z",
     "start_time": "2024-10-07T15:51:43.388860Z"
    }
   },
   "cell_type": "code",
   "source": [
    "user_question = 'tell me about yourself'\n",
    "links = collection.query(query_texts= user_question, n_results=1).get('metadatas')\n",
    "links"
   ],
   "id": "39d39d8d23cf09ac",
   "outputs": [
    {
     "data": {
      "text/plain": [
       "[[{'Answer': 'Performance is measured by the collection of cash incentives within the next two quarters and 15 days.'}]]"
      ]
     },
     "execution_count": 14,
     "metadata": {},
     "output_type": "execute_result"
    }
   ],
   "execution_count": 14
  },
  {
   "metadata": {
    "ExecuteTime": {
     "end_time": "2024-10-07T15:51:47.434791Z",
     "start_time": "2024-10-07T15:51:46.358103Z"
    }
   },
   "cell_type": "code",
   "source": [
    "from langchain_groq import ChatGroq\n",
    "\n",
    "llm = ChatGroq(\n",
    "    temperature=0,\n",
    "    groq_api_key=os.getenv('GROQ_API_KEY'),\n",
    "    model=\"llama-3.1-8b-instant\",\n",
    ")"
   ],
   "id": "94135d6647e69182",
   "outputs": [],
   "execution_count": 15
  },
  {
   "metadata": {
    "ExecuteTime": {
     "end_time": "2024-10-07T15:51:47.923565Z",
     "start_time": "2024-10-07T15:51:47.918366Z"
    }
   },
   "cell_type": "code",
   "source": [
    "from langchain_core.prompts import PromptTemplate\n",
    "\n",
    "prompt_template = PromptTemplate.from_template(\n",
    "    \"\"\"\n",
    "    ### QUESTION FROM USER\n",
    "    {user_question}\n",
    "    ### ANSWER FROM VECTOR DATABASE CREATED BY CHROMADB\n",
    "    {answer}\n",
    "    ### INSTRUCTIONS\n",
    "    Your job is to connect user question and answer and no need to repeat your question. for large response you can use points rather than heavy answer (NO PREAMBLE) \n",
    "    \"\"\"    \n",
    ")\n"
   ],
   "id": "b502a62aa64fe5b2",
   "outputs": [],
   "execution_count": 16
  },
  {
   "metadata": {
    "ExecuteTime": {
     "end_time": "2024-10-07T15:51:49.656919Z",
     "start_time": "2024-10-07T15:51:48.580139Z"
    }
   },
   "cell_type": "code",
   "source": [
    "chain = prompt_template | llm\n",
    "res = chain.invoke(input={'user_question': user_question, 'answer': links[0][0]['Answer']})\n",
    "res.content"
   ],
   "id": "19b36f1ee7bcd86",
   "outputs": [
    {
     "data": {
      "text/plain": [
       "'* I am an AI assistant trained on a vector database created by ChromaDB.\\n* My primary function is to provide relevant and accurate information to users.\\n* I can process and analyze large amounts of data to generate responses.\\n* My performance is measured by the effectiveness of my responses in meeting user needs and expectations.\\n* In this case, my performance is being evaluated based on the collection of cash incentives within a specific timeframe (next two quarters and 15 days).\\n* I will strive to provide accurate and helpful responses to your questions and engage in productive conversations.'"
      ]
     },
     "execution_count": 17,
     "metadata": {},
     "output_type": "execute_result"
    }
   ],
   "execution_count": 17
  },
  {
   "metadata": {},
   "cell_type": "code",
   "outputs": [],
   "execution_count": null,
   "source": "",
   "id": "c2f4300febf1c5b8"
  }
 ],
 "metadata": {
  "kernelspec": {
   "display_name": "Python 3",
   "language": "python",
   "name": "python3"
  },
  "language_info": {
   "codemirror_mode": {
    "name": "ipython",
    "version": 2
   },
   "file_extension": ".py",
   "mimetype": "text/x-python",
   "name": "python",
   "nbconvert_exporter": "python",
   "pygments_lexer": "ipython2",
   "version": "2.7.6"
  }
 },
 "nbformat": 4,
 "nbformat_minor": 5
}
