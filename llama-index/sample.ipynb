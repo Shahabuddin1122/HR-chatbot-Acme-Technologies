{
 "cells": [
  {
   "metadata": {},
   "cell_type": "markdown",
   "source": [
    "# This is a sample Jupyter Notebook\n",
    "\n",
    "Below is an example of a code cell. \n",
    "Put your cursor into the cell and press Shift+Enter to execute it and select the next one, or click !here goes the icon of the corresponding button in the gutter! button.\n",
    "To debug a cell, press Alt+Shift+Enter, or click !here goes the icon of the corresponding button in the gutter! button.\n",
    "\n",
    "Press Double Shift to search everywhere for classes, files, tool windows, actions, and settings.\n",
    "\n",
    "To learn more about Jupyter Notebooks in PyCharm, see [help](https://www.jetbrains.com/help/pycharm/jupyter-notebook-support.html).\n",
    "For an overview of PyCharm, go to Help -> Learn IDE features or refer to [our documentation](https://www.jetbrains.com/help/pycharm/getting-started.html)."
   ],
   "id": "8a77807f92f26ee"
  },
  {
   "metadata": {
    "ExecuteTime": {
     "end_time": "2024-10-12T20:51:23.846378Z",
     "start_time": "2024-10-12T20:51:14.946237Z"
    }
   },
   "cell_type": "code",
   "source": "!pip install llama-index llama-index-embeddings-huggingface llama-index-llms-langchain",
   "id": "fbc121e30a2defb3",
   "outputs": [
    {
     "name": "stdout",
     "output_type": "stream",
     "text": [
      "Defaulting to user installation because normal site-packages is not writeable\n",
      "Requirement already satisfied: llama-index in c:\\users\\shahabuddin akhon hr\\appdata\\roaming\\python\\python312\\site-packages (0.11.17)\n",
      "Requirement already satisfied: llama-index-embeddings-huggingface in c:\\users\\shahabuddin akhon hr\\appdata\\roaming\\python\\python312\\site-packages (0.3.1)\n",
      "Collecting llama-index-llms-langchain\n",
      "  Downloading llama_index_llms_langchain-0.4.2-py3-none-any.whl.metadata (1.4 kB)\n",
      "Requirement already satisfied: llama-index-agent-openai<0.4.0,>=0.3.4 in c:\\users\\shahabuddin akhon hr\\appdata\\roaming\\python\\python312\\site-packages (from llama-index) (0.3.4)\n",
      "Requirement already satisfied: llama-index-cli<0.4.0,>=0.3.1 in c:\\users\\shahabuddin akhon hr\\appdata\\roaming\\python\\python312\\site-packages (from llama-index) (0.3.1)\n",
      "Requirement already satisfied: llama-index-core<0.12.0,>=0.11.17 in c:\\users\\shahabuddin akhon hr\\appdata\\roaming\\python\\python312\\site-packages (from llama-index) (0.11.17)\n",
      "Requirement already satisfied: llama-index-embeddings-openai<0.3.0,>=0.2.4 in c:\\users\\shahabuddin akhon hr\\appdata\\roaming\\python\\python312\\site-packages (from llama-index) (0.2.5)\n",
      "Requirement already satisfied: llama-index-indices-managed-llama-cloud>=0.3.0 in c:\\users\\shahabuddin akhon hr\\appdata\\roaming\\python\\python312\\site-packages (from llama-index) (0.4.0)\n",
      "Requirement already satisfied: llama-index-legacy<0.10.0,>=0.9.48 in c:\\users\\shahabuddin akhon hr\\appdata\\roaming\\python\\python312\\site-packages (from llama-index) (0.9.48.post3)\n",
      "Requirement already satisfied: llama-index-llms-openai<0.3.0,>=0.2.10 in c:\\users\\shahabuddin akhon hr\\appdata\\roaming\\python\\python312\\site-packages (from llama-index) (0.2.13)\n",
      "Requirement already satisfied: llama-index-multi-modal-llms-openai<0.3.0,>=0.2.0 in c:\\users\\shahabuddin akhon hr\\appdata\\roaming\\python\\python312\\site-packages (from llama-index) (0.2.2)\n",
      "Requirement already satisfied: llama-index-program-openai<0.3.0,>=0.2.0 in c:\\users\\shahabuddin akhon hr\\appdata\\roaming\\python\\python312\\site-packages (from llama-index) (0.2.0)\n",
      "Requirement already satisfied: llama-index-question-gen-openai<0.3.0,>=0.2.0 in c:\\users\\shahabuddin akhon hr\\appdata\\roaming\\python\\python312\\site-packages (from llama-index) (0.2.0)\n",
      "Requirement already satisfied: llama-index-readers-file<0.3.0,>=0.2.0 in c:\\users\\shahabuddin akhon hr\\appdata\\roaming\\python\\python312\\site-packages (from llama-index) (0.2.2)\n",
      "Requirement already satisfied: llama-index-readers-llama-parse>=0.3.0 in c:\\users\\shahabuddin akhon hr\\appdata\\roaming\\python\\python312\\site-packages (from llama-index) (0.3.0)\n",
      "Requirement already satisfied: nltk>3.8.1 in c:\\users\\shahabuddin akhon hr\\appdata\\roaming\\python\\python312\\site-packages (from llama-index) (3.9.1)\n",
      "Requirement already satisfied: huggingface-hub>=0.19.0 in c:\\users\\shahabuddin akhon hr\\appdata\\roaming\\python\\python312\\site-packages (from huggingface-hub[inference]>=0.19.0->llama-index-embeddings-huggingface) (0.25.1)\n",
      "Requirement already satisfied: sentence-transformers>=2.6.1 in c:\\users\\shahabuddin akhon hr\\appdata\\roaming\\python\\python312\\site-packages (from llama-index-embeddings-huggingface) (3.1.1)\n",
      "Requirement already satisfied: langchain>=0.1.3 in c:\\users\\shahabuddin akhon hr\\appdata\\roaming\\python\\python312\\site-packages (from llama-index-llms-langchain) (0.3.2)\n",
      "Requirement already satisfied: filelock in c:\\programdata\\anaconda3\\lib\\site-packages (from huggingface-hub>=0.19.0->huggingface-hub[inference]>=0.19.0->llama-index-embeddings-huggingface) (3.13.1)\n",
      "Requirement already satisfied: fsspec>=2023.5.0 in c:\\programdata\\anaconda3\\lib\\site-packages (from huggingface-hub>=0.19.0->huggingface-hub[inference]>=0.19.0->llama-index-embeddings-huggingface) (2024.3.1)\n",
      "Requirement already satisfied: packaging>=20.9 in c:\\programdata\\anaconda3\\lib\\site-packages (from huggingface-hub>=0.19.0->huggingface-hub[inference]>=0.19.0->llama-index-embeddings-huggingface) (23.2)\n",
      "Requirement already satisfied: pyyaml>=5.1 in c:\\programdata\\anaconda3\\lib\\site-packages (from huggingface-hub>=0.19.0->huggingface-hub[inference]>=0.19.0->llama-index-embeddings-huggingface) (6.0.1)\n",
      "Requirement already satisfied: requests in c:\\programdata\\anaconda3\\lib\\site-packages (from huggingface-hub>=0.19.0->huggingface-hub[inference]>=0.19.0->llama-index-embeddings-huggingface) (2.32.2)\n",
      "Requirement already satisfied: tqdm>=4.42.1 in c:\\programdata\\anaconda3\\lib\\site-packages (from huggingface-hub>=0.19.0->huggingface-hub[inference]>=0.19.0->llama-index-embeddings-huggingface) (4.66.4)\n",
      "Requirement already satisfied: typing-extensions>=3.7.4.3 in c:\\programdata\\anaconda3\\lib\\site-packages (from huggingface-hub>=0.19.0->huggingface-hub[inference]>=0.19.0->llama-index-embeddings-huggingface) (4.11.0)\n",
      "Requirement already satisfied: aiohttp in c:\\programdata\\anaconda3\\lib\\site-packages (from huggingface-hub[inference]>=0.19.0->llama-index-embeddings-huggingface) (3.9.5)\n",
      "Requirement already satisfied: minijinja>=1.0 in c:\\users\\shahabuddin akhon hr\\appdata\\roaming\\python\\python312\\site-packages (from huggingface-hub[inference]>=0.19.0->llama-index-embeddings-huggingface) (2.2.0)\n",
      "Requirement already satisfied: SQLAlchemy<3,>=1.4 in c:\\programdata\\anaconda3\\lib\\site-packages (from langchain>=0.1.3->llama-index-llms-langchain) (2.0.30)\n",
      "Requirement already satisfied: langchain-core<0.4.0,>=0.3.8 in c:\\users\\shahabuddin akhon hr\\appdata\\roaming\\python\\python312\\site-packages (from langchain>=0.1.3->llama-index-llms-langchain) (0.3.9)\n",
      "Requirement already satisfied: langchain-text-splitters<0.4.0,>=0.3.0 in c:\\users\\shahabuddin akhon hr\\appdata\\roaming\\python\\python312\\site-packages (from langchain>=0.1.3->llama-index-llms-langchain) (0.3.0)\n",
      "Requirement already satisfied: langsmith<0.2.0,>=0.1.17 in c:\\users\\shahabuddin akhon hr\\appdata\\roaming\\python\\python312\\site-packages (from langchain>=0.1.3->llama-index-llms-langchain) (0.1.131)\n",
      "Requirement already satisfied: numpy<2.0.0,>=1.26.0 in c:\\programdata\\anaconda3\\lib\\site-packages (from langchain>=0.1.3->llama-index-llms-langchain) (1.26.4)\n",
      "Requirement already satisfied: pydantic<3.0.0,>=2.7.4 in c:\\users\\shahabuddin akhon hr\\appdata\\roaming\\python\\python312\\site-packages (from langchain>=0.1.3->llama-index-llms-langchain) (2.9.2)\n",
      "Requirement already satisfied: tenacity!=8.4.0,<9.0.0,>=8.1.0 in c:\\users\\shahabuddin akhon hr\\appdata\\roaming\\python\\python312\\site-packages (from langchain>=0.1.3->llama-index-llms-langchain) (8.5.0)\n",
      "Requirement already satisfied: openai>=1.14.0 in c:\\users\\shahabuddin akhon hr\\appdata\\roaming\\python\\python312\\site-packages (from llama-index-agent-openai<0.4.0,>=0.3.4->llama-index) (1.51.2)\n",
      "Requirement already satisfied: dataclasses-json in c:\\users\\shahabuddin akhon hr\\appdata\\roaming\\python\\python312\\site-packages (from llama-index-core<0.12.0,>=0.11.17->llama-index) (0.6.7)\n",
      "Requirement already satisfied: deprecated>=1.2.9.3 in c:\\users\\shahabuddin akhon hr\\appdata\\roaming\\python\\python312\\site-packages (from llama-index-core<0.12.0,>=0.11.17->llama-index) (1.2.14)\n",
      "Requirement already satisfied: dirtyjson<2.0.0,>=1.0.8 in c:\\users\\shahabuddin akhon hr\\appdata\\roaming\\python\\python312\\site-packages (from llama-index-core<0.12.0,>=0.11.17->llama-index) (1.0.8)\n",
      "Requirement already satisfied: httpx in c:\\users\\shahabuddin akhon hr\\appdata\\roaming\\python\\python312\\site-packages (from llama-index-core<0.12.0,>=0.11.17->llama-index) (0.27.2)\n",
      "Requirement already satisfied: nest-asyncio<2.0.0,>=1.5.8 in c:\\programdata\\anaconda3\\lib\\site-packages (from llama-index-core<0.12.0,>=0.11.17->llama-index) (1.6.0)\n",
      "Requirement already satisfied: networkx>=3.0 in c:\\programdata\\anaconda3\\lib\\site-packages (from llama-index-core<0.12.0,>=0.11.17->llama-index) (3.2.1)\n",
      "Requirement already satisfied: pillow>=9.0.0 in c:\\programdata\\anaconda3\\lib\\site-packages (from llama-index-core<0.12.0,>=0.11.17->llama-index) (10.3.0)\n",
      "Requirement already satisfied: tiktoken>=0.3.3 in c:\\users\\shahabuddin akhon hr\\appdata\\roaming\\python\\python312\\site-packages (from llama-index-core<0.12.0,>=0.11.17->llama-index) (0.8.0)\n",
      "Requirement already satisfied: typing-inspect>=0.8.0 in c:\\users\\shahabuddin akhon hr\\appdata\\roaming\\python\\python312\\site-packages (from llama-index-core<0.12.0,>=0.11.17->llama-index) (0.9.0)\n",
      "Requirement already satisfied: wrapt in c:\\programdata\\anaconda3\\lib\\site-packages (from llama-index-core<0.12.0,>=0.11.17->llama-index) (1.14.1)\n",
      "Requirement already satisfied: llama-cloud>=0.0.11 in c:\\users\\shahabuddin akhon hr\\appdata\\roaming\\python\\python312\\site-packages (from llama-index-indices-managed-llama-cloud>=0.3.0->llama-index) (0.1.2)\n",
      "Requirement already satisfied: pandas in c:\\programdata\\anaconda3\\lib\\site-packages (from llama-index-legacy<0.10.0,>=0.9.48->llama-index) (2.2.2)\n",
      "Requirement already satisfied: beautifulsoup4<5.0.0,>=4.12.3 in c:\\programdata\\anaconda3\\lib\\site-packages (from llama-index-readers-file<0.3.0,>=0.2.0->llama-index) (4.12.3)\n",
      "Requirement already satisfied: pypdf<5.0.0,>=4.0.1 in c:\\users\\shahabuddin akhon hr\\appdata\\roaming\\python\\python312\\site-packages (from llama-index-readers-file<0.3.0,>=0.2.0->llama-index) (4.3.1)\n",
      "Requirement already satisfied: striprtf<0.0.27,>=0.0.26 in c:\\users\\shahabuddin akhon hr\\appdata\\roaming\\python\\python312\\site-packages (from llama-index-readers-file<0.3.0,>=0.2.0->llama-index) (0.0.26)\n",
      "Requirement already satisfied: llama-parse>=0.5.0 in c:\\users\\shahabuddin akhon hr\\appdata\\roaming\\python\\python312\\site-packages (from llama-index-readers-llama-parse>=0.3.0->llama-index) (0.5.7)\n",
      "Requirement already satisfied: click in c:\\programdata\\anaconda3\\lib\\site-packages (from nltk>3.8.1->llama-index) (8.1.7)\n",
      "Requirement already satisfied: joblib in c:\\programdata\\anaconda3\\lib\\site-packages (from nltk>3.8.1->llama-index) (1.4.2)\n",
      "Requirement already satisfied: regex>=2021.8.3 in c:\\programdata\\anaconda3\\lib\\site-packages (from nltk>3.8.1->llama-index) (2023.10.3)\n",
      "Requirement already satisfied: transformers<5.0.0,>=4.38.0 in c:\\users\\shahabuddin akhon hr\\appdata\\roaming\\python\\python312\\site-packages (from sentence-transformers>=2.6.1->llama-index-embeddings-huggingface) (4.45.1)\n",
      "Requirement already satisfied: torch>=1.11.0 in c:\\users\\shahabuddin akhon hr\\appdata\\roaming\\python\\python312\\site-packages (from sentence-transformers>=2.6.1->llama-index-embeddings-huggingface) (2.4.1)\n",
      "Requirement already satisfied: scikit-learn in c:\\programdata\\anaconda3\\lib\\site-packages (from sentence-transformers>=2.6.1->llama-index-embeddings-huggingface) (1.4.2)\n",
      "Requirement already satisfied: scipy in c:\\programdata\\anaconda3\\lib\\site-packages (from sentence-transformers>=2.6.1->llama-index-embeddings-huggingface) (1.13.1)\n",
      "Requirement already satisfied: aiosignal>=1.1.2 in c:\\programdata\\anaconda3\\lib\\site-packages (from aiohttp->huggingface-hub[inference]>=0.19.0->llama-index-embeddings-huggingface) (1.2.0)\n",
      "Requirement already satisfied: attrs>=17.3.0 in c:\\programdata\\anaconda3\\lib\\site-packages (from aiohttp->huggingface-hub[inference]>=0.19.0->llama-index-embeddings-huggingface) (23.1.0)\n",
      "Requirement already satisfied: frozenlist>=1.1.1 in c:\\programdata\\anaconda3\\lib\\site-packages (from aiohttp->huggingface-hub[inference]>=0.19.0->llama-index-embeddings-huggingface) (1.4.0)\n",
      "Requirement already satisfied: multidict<7.0,>=4.5 in c:\\programdata\\anaconda3\\lib\\site-packages (from aiohttp->huggingface-hub[inference]>=0.19.0->llama-index-embeddings-huggingface) (6.0.4)\n",
      "Requirement already satisfied: yarl<2.0,>=1.0 in c:\\programdata\\anaconda3\\lib\\site-packages (from aiohttp->huggingface-hub[inference]>=0.19.0->llama-index-embeddings-huggingface) (1.9.3)\n",
      "Requirement already satisfied: soupsieve>1.2 in c:\\programdata\\anaconda3\\lib\\site-packages (from beautifulsoup4<5.0.0,>=4.12.3->llama-index-readers-file<0.3.0,>=0.2.0->llama-index) (2.5)\n",
      "Requirement already satisfied: jsonpatch<2.0,>=1.33 in c:\\programdata\\anaconda3\\lib\\site-packages (from langchain-core<0.4.0,>=0.3.8->langchain>=0.1.3->llama-index-llms-langchain) (1.33)\n",
      "Requirement already satisfied: orjson<4.0.0,>=3.9.14 in c:\\users\\shahabuddin akhon hr\\appdata\\roaming\\python\\python312\\site-packages (from langsmith<0.2.0,>=0.1.17->langchain>=0.1.3->llama-index-llms-langchain) (3.10.7)\n",
      "Requirement already satisfied: requests-toolbelt<2.0.0,>=1.0.0 in c:\\programdata\\anaconda3\\lib\\site-packages (from langsmith<0.2.0,>=0.1.17->langchain>=0.1.3->llama-index-llms-langchain) (1.0.0)\n",
      "Requirement already satisfied: anyio in c:\\programdata\\anaconda3\\lib\\site-packages (from httpx->llama-index-core<0.12.0,>=0.11.17->llama-index) (4.2.0)\n",
      "Requirement already satisfied: certifi in c:\\programdata\\anaconda3\\lib\\site-packages (from httpx->llama-index-core<0.12.0,>=0.11.17->llama-index) (2024.6.2)\n",
      "Requirement already satisfied: httpcore==1.* in c:\\users\\shahabuddin akhon hr\\appdata\\roaming\\python\\python312\\site-packages (from httpx->llama-index-core<0.12.0,>=0.11.17->llama-index) (1.0.6)\n",
      "Requirement already satisfied: idna in c:\\programdata\\anaconda3\\lib\\site-packages (from httpx->llama-index-core<0.12.0,>=0.11.17->llama-index) (3.7)\n",
      "Requirement already satisfied: sniffio in c:\\programdata\\anaconda3\\lib\\site-packages (from httpx->llama-index-core<0.12.0,>=0.11.17->llama-index) (1.3.0)\n",
      "Requirement already satisfied: h11<0.15,>=0.13 in c:\\users\\shahabuddin akhon hr\\appdata\\roaming\\python\\python312\\site-packages (from httpcore==1.*->httpx->llama-index-core<0.12.0,>=0.11.17->llama-index) (0.14.0)\n",
      "Requirement already satisfied: distro<2,>=1.7.0 in c:\\programdata\\anaconda3\\lib\\site-packages (from openai>=1.14.0->llama-index-agent-openai<0.4.0,>=0.3.4->llama-index) (1.9.0)\n",
      "Requirement already satisfied: jiter<1,>=0.4.0 in c:\\users\\shahabuddin akhon hr\\appdata\\roaming\\python\\python312\\site-packages (from openai>=1.14.0->llama-index-agent-openai<0.4.0,>=0.3.4->llama-index) (0.6.1)\n",
      "Requirement already satisfied: annotated-types>=0.6.0 in c:\\programdata\\anaconda3\\lib\\site-packages (from pydantic<3.0.0,>=2.7.4->langchain>=0.1.3->llama-index-llms-langchain) (0.6.0)\n",
      "Requirement already satisfied: pydantic-core==2.23.4 in c:\\users\\shahabuddin akhon hr\\appdata\\roaming\\python\\python312\\site-packages (from pydantic<3.0.0,>=2.7.4->langchain>=0.1.3->llama-index-llms-langchain) (2.23.4)\n",
      "Requirement already satisfied: charset-normalizer<4,>=2 in c:\\programdata\\anaconda3\\lib\\site-packages (from requests->huggingface-hub>=0.19.0->huggingface-hub[inference]>=0.19.0->llama-index-embeddings-huggingface) (2.0.4)\n",
      "Requirement already satisfied: urllib3<3,>=1.21.1 in c:\\programdata\\anaconda3\\lib\\site-packages (from requests->huggingface-hub>=0.19.0->huggingface-hub[inference]>=0.19.0->llama-index-embeddings-huggingface) (2.2.2)\n",
      "Requirement already satisfied: greenlet!=0.4.17 in c:\\programdata\\anaconda3\\lib\\site-packages (from SQLAlchemy<3,>=1.4->langchain>=0.1.3->llama-index-llms-langchain) (3.0.1)\n",
      "Requirement already satisfied: sympy in c:\\programdata\\anaconda3\\lib\\site-packages (from torch>=1.11.0->sentence-transformers>=2.6.1->llama-index-embeddings-huggingface) (1.12)\n",
      "Requirement already satisfied: jinja2 in c:\\programdata\\anaconda3\\lib\\site-packages (from torch>=1.11.0->sentence-transformers>=2.6.1->llama-index-embeddings-huggingface) (3.1.4)\n",
      "Requirement already satisfied: setuptools in c:\\programdata\\anaconda3\\lib\\site-packages (from torch>=1.11.0->sentence-transformers>=2.6.1->llama-index-embeddings-huggingface) (69.5.1)\n",
      "Requirement already satisfied: colorama in c:\\programdata\\anaconda3\\lib\\site-packages (from tqdm>=4.42.1->huggingface-hub>=0.19.0->huggingface-hub[inference]>=0.19.0->llama-index-embeddings-huggingface) (0.4.6)\n",
      "Requirement already satisfied: safetensors>=0.4.1 in c:\\users\\shahabuddin akhon hr\\appdata\\roaming\\python\\python312\\site-packages (from transformers<5.0.0,>=4.38.0->sentence-transformers>=2.6.1->llama-index-embeddings-huggingface) (0.4.5)\n",
      "Requirement already satisfied: tokenizers<0.21,>=0.20 in c:\\users\\shahabuddin akhon hr\\appdata\\roaming\\python\\python312\\site-packages (from transformers<5.0.0,>=4.38.0->sentence-transformers>=2.6.1->llama-index-embeddings-huggingface) (0.20.0)\n",
      "Requirement already satisfied: mypy-extensions>=0.3.0 in c:\\programdata\\anaconda3\\lib\\site-packages (from typing-inspect>=0.8.0->llama-index-core<0.12.0,>=0.11.17->llama-index) (1.0.0)\n",
      "Requirement already satisfied: marshmallow<4.0.0,>=3.18.0 in c:\\users\\shahabuddin akhon hr\\appdata\\roaming\\python\\python312\\site-packages (from dataclasses-json->llama-index-core<0.12.0,>=0.11.17->llama-index) (3.22.0)\n",
      "Requirement already satisfied: python-dateutil>=2.8.2 in c:\\programdata\\anaconda3\\lib\\site-packages (from pandas->llama-index-legacy<0.10.0,>=0.9.48->llama-index) (2.9.0.post0)\n",
      "Requirement already satisfied: pytz>=2020.1 in c:\\programdata\\anaconda3\\lib\\site-packages (from pandas->llama-index-legacy<0.10.0,>=0.9.48->llama-index) (2024.1)\n",
      "Requirement already satisfied: tzdata>=2022.7 in c:\\programdata\\anaconda3\\lib\\site-packages (from pandas->llama-index-legacy<0.10.0,>=0.9.48->llama-index) (2023.3)\n",
      "Requirement already satisfied: threadpoolctl>=2.0.0 in c:\\programdata\\anaconda3\\lib\\site-packages (from scikit-learn->sentence-transformers>=2.6.1->llama-index-embeddings-huggingface) (2.2.0)\n",
      "Requirement already satisfied: jsonpointer>=1.9 in c:\\programdata\\anaconda3\\lib\\site-packages (from jsonpatch<2.0,>=1.33->langchain-core<0.4.0,>=0.3.8->langchain>=0.1.3->llama-index-llms-langchain) (2.1)\n",
      "Requirement already satisfied: six>=1.5 in c:\\programdata\\anaconda3\\lib\\site-packages (from python-dateutil>=2.8.2->pandas->llama-index-legacy<0.10.0,>=0.9.48->llama-index) (1.16.0)\n",
      "Requirement already satisfied: MarkupSafe>=2.0 in c:\\programdata\\anaconda3\\lib\\site-packages (from jinja2->torch>=1.11.0->sentence-transformers>=2.6.1->llama-index-embeddings-huggingface) (2.1.3)\n",
      "Requirement already satisfied: mpmath>=0.19 in c:\\programdata\\anaconda3\\lib\\site-packages (from sympy->torch>=1.11.0->sentence-transformers>=2.6.1->llama-index-embeddings-huggingface) (1.3.0)\n",
      "Downloading llama_index_llms_langchain-0.4.2-py3-none-any.whl (5.2 kB)\n",
      "Installing collected packages: llama-index-llms-langchain\n",
      "Successfully installed llama-index-llms-langchain-0.4.2\n"
     ]
    }
   ],
   "execution_count": 31
  },
  {
   "metadata": {
    "ExecuteTime": {
     "end_time": "2024-10-12T20:02:20.390829Z",
     "start_time": "2024-10-12T20:02:20.386302Z"
    }
   },
   "cell_type": "code",
   "source": [
    "from llama_index.core import VectorStoreIndex, SimpleDirectoryReader\n",
    "from llama_index.core import Settings \n",
    "from sentence_transformers import SentenceTransformer"
   ],
   "id": "fe2965d0252932b6",
   "outputs": [],
   "execution_count": 20
  },
  {
   "metadata": {
    "ExecuteTime": {
     "end_time": "2024-10-13T15:54:36.146535Z",
     "start_time": "2024-10-13T15:54:34.498918Z"
    }
   },
   "cell_type": "code",
   "source": [
    "from langchain_groq import ChatGroq\n",
    "\n",
    "llm = ChatGroq(\n",
    "    temperature=0,\n",
    "    groq_api_key=\"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\",\n",
    "    model=\"llama-3.1-8b-instant\",\n",
    ")"
   ],
   "id": "c0158c1a5b659421",
   "outputs": [],
   "execution_count": 1
  },
  {
   "metadata": {
    "ExecuteTime": {
     "end_time": "2024-10-13T15:55:00.867512Z",
     "start_time": "2024-10-13T15:54:43.517612Z"
    }
   },
   "cell_type": "code",
   "source": [
    "from llama_index.embeddings.huggingface import HuggingFaceEmbedding\n",
    "\n",
    "embed_model = HuggingFaceEmbedding(model_name=\"BAAI/bge-small-en-v1.5\")"
   ],
   "id": "c68a5c2c1841b1a0",
   "outputs": [
    {
     "name": "stdout",
     "output_type": "stream",
     "text": [
      "WARNING:tensorflow:From C:\\Users\\shahabuddin akhon hr\\AppData\\Roaming\\Python\\Python312\\site-packages\\tf_keras\\src\\losses.py:2976: The name tf.losses.sparse_softmax_cross_entropy is deprecated. Please use tf.compat.v1.losses.sparse_softmax_cross_entropy instead.\n",
      "\n"
     ]
    }
   ],
   "execution_count": 2
  },
  {
   "metadata": {
    "ExecuteTime": {
     "end_time": "2024-10-13T15:55:05.115451Z",
     "start_time": "2024-10-13T15:55:04.315457Z"
    }
   },
   "cell_type": "code",
   "source": [
    "from llama_index.core import Settings\n",
    "\n",
    "Settings.llm = llm\n",
    "Settings.embed_model = embed_model"
   ],
   "id": "c15f72c2cba087fc",
   "outputs": [],
   "execution_count": 3
  },
  {
   "metadata": {
    "ExecuteTime": {
     "end_time": "2024-10-12T20:52:01.977399Z",
     "start_time": "2024-10-12T20:51:58.982274Z"
    }
   },
   "cell_type": "code",
   "source": [
    "documents = SimpleDirectoryReader('./data').load_data()\n",
    "index = VectorStoreIndex.from_documents(documents)"
   ],
   "id": "891860b78a3227fd",
   "outputs": [],
   "execution_count": 33
  },
  {
   "metadata": {
    "ExecuteTime": {
     "end_time": "2024-10-12T20:58:09.560142Z",
     "start_time": "2024-10-12T20:58:09.517755Z"
    }
   },
   "cell_type": "code",
   "source": [
    "# save index to disk\n",
    "index.set_index_id(\"vector_index\")\n",
    "index.storage_context.persist(\"./storage\")"
   ],
   "id": "579d70fd028361c5",
   "outputs": [],
   "execution_count": 41
  },
  {
   "metadata": {
    "ExecuteTime": {
     "end_time": "2024-10-13T15:55:11.581995Z",
     "start_time": "2024-10-13T15:55:11.378827Z"
    }
   },
   "cell_type": "code",
   "source": [
    "from llama_index.core import StorageContext, load_index_from_storage\n",
    "\n",
    "# rebuild storage context\n",
    "storage_context = StorageContext.from_defaults(persist_dir=\"storage\")\n",
    "# load index\n",
    "index = load_index_from_storage(storage_context, index_id=\"vector_index\")"
   ],
   "id": "976aefad2eb2c14c",
   "outputs": [],
   "execution_count": 4
  },
  {
   "metadata": {
    "ExecuteTime": {
     "end_time": "2024-10-13T18:04:28.658750Z",
     "start_time": "2024-10-13T18:04:28.647942Z"
    }
   },
   "cell_type": "code",
   "source": [
    "query_engine = index.as_query_engine(\n",
    "    similarity_top_k=5\n",
    ")"
   ],
   "id": "a663190d7c8371ef",
   "outputs": [],
   "execution_count": 55
  },
  {
   "metadata": {
    "ExecuteTime": {
     "end_time": "2024-10-13T18:04:30.288805Z",
     "start_time": "2024-10-13T18:04:30.278544Z"
    }
   },
   "cell_type": "code",
   "source": [
    "from langchain_core.prompts import PromptTemplate\n",
    "\n",
    "# Define the template that takes in the user question and the retrieved document\n",
    "template = \"\"\"\n",
    "        You are an expert in HR topics. The user has a question, and you will answer it based on the relevant information provided from the HR manual.\n",
    "\n",
    "        User question: {user_question}\n",
    "        Relevant information: {answer}\n",
    "\n",
    "        Provide a specific and accurate response based on the relevant information above.(NO PREAMBLE)\n",
    "\"\"\"\n",
    "# Create the PromptTemplate\n",
    "prompt_template = PromptTemplate.from_template(\n",
    "    template\n",
    ")"
   ],
   "id": "79f31b6afee68776",
   "outputs": [],
   "execution_count": 56
  },
  {
   "metadata": {
    "ExecuteTime": {
     "end_time": "2024-10-13T18:04:38.336306Z",
     "start_time": "2024-10-13T18:04:35.069151Z"
    }
   },
   "cell_type": "code",
   "source": [
    "question = \"Can I take unpaid leave whenever I want?\"\n",
    "response = query_engine.query(question)\n",
    "response.response"
   ],
   "id": "c2576fa1559b39ab",
   "outputs": [
    {
     "data": {
      "text/plain": [
       "'No, according to the policy, if an employee exhausts their casual leave (10 days) and sick leave (13 days), any additional leave will be unpaid.'"
      ]
     },
     "execution_count": 57,
     "metadata": {},
     "output_type": "execute_result"
    }
   ],
   "execution_count": 57
  },
  {
   "metadata": {
    "ExecuteTime": {
     "end_time": "2024-10-13T18:05:14.612934Z",
     "start_time": "2024-10-13T18:05:14.603370Z"
    }
   },
   "cell_type": "code",
   "source": "response.source_nodes[4].text",
   "id": "f909ae3807c92072",
   "outputs": [
    {
     "data": {
      "text/plain": [
       "\"After this period, a decision will be made based on the device’s condition.\\n205, Who is responsible for damage due to negligence when using a laptop outside the office?, If a laptop is damaged due to the user’s negligence outside the office, the user will be responsible, and a fine will be imposed.\\n206, What is the policy for carrying laptops home?, Employees who take laptops home for office work must carry them at their own responsibility. If the laptop is lost or damaged, the user will bear the full cost of purchase or repair.\\n207, Who decides whether an employee uses a desktop or a laptop?, The chairman will decide who is allowed to use a laptop. All other employees will use desktops, except for special cases.\\n208, How are the official activities of Acme Technologies Limited managed?, All official activities of Acme Technologies Limited are managed through ERP software, with encrypted databases being recorded and automatically backed up to a server PC.\\n209, What is the primary concern regarding server data backup?, Since the server PC may crash at any time, a backup plan is necessary to prevent data loss. The plan includes using cloud-based storage for automatic uploads alongside regular server backups.\\n210, What is the data backup schedule for Google Drive?, Storage Capacity: 15GB of free storage.\\r\\nBackup Frequency: Twice daily.\\r\\nFirst Backup: 9:00 AM.\\r\\nSecond Backup: 5:00 PM.\\n211, What is the automatic backup schedule for the Server PC's Drive D?, Backup Type: Automatic.\\r\\nBackup Frequency: Twice daily.\\r\\nFirst Backup: 9:00 AM.\\r\\nSecond Backup: 5:00 PM.\\n212, What is the manual backup schedule for the Server PC's Drive F?, Backup Type: Manual.\\r\\nBackup Frequency: Once a week at 5:00 PM.\\n213, Who is responsible for checking daily backups?, The HR & Admin department is responsible for checking and confirming that the daily data backups are completed on time.\\n214, What role does the Pinovision company play in the backup process?, Pinovision must confirm whether the morning’s backup includes the data from the previous day, and if the afternoon’s backup contains the latest updates.\\n215, What is the policy for weekly data backups on Google Drive?, Weekly data must be saved on Google Drive, and the previous week’s data should be deleted. This process is managed by the HR department.\\n216, Where will all old and new data be stored apart from Google Drive?, In addition to Google Drive, all old and new data will be stored at a specific storage location on the server PC for added security.\\n217, What is the minimum requirement to be eligible for an increment?, An employee must have completed at least one year in the company to be eligible for an increment.\\n218, What are the different types of increments and their percentages?, General increment: 2.5% of basic salary.\\r\\nYearly evaluation: Up to 7.5% of basic salary.\\r\\nPromotion increment: 3% of basic salary.\\r\\nDirector's observations: Up to 3% of basic salary.\\r\\nSpecial achievements: Up to 5% of basic salary.\\r\\nDisciplinary cases: A deduction of up to 5% of basic salary.\\n219, When is the next salary review scheduled?, The next salary review is conducted every year in the month of July.\\n220, What is the salary range for different positions?, Officer: BDT 16,000.\\r\\nExecutive: BDT 20,000.\\r\\nSenior Executive: BDT 24,000.\\r\\nAssistant Manager: BDT 30,000.\\r\\nDeputy Manager: BDT 40,000.\\r\\nManager: BDT 60,000.\\r\\nAssistant General Manager: BDT 80,000.\\n221, What happens if my performance during probation is unsatisfactory?, If performance during probation is unsatisfactory, the probation period may be extended or employment may be terminated at the company's discretion. Termination during probation requires one month’s notice or payment of one month’s basic salary in lieu of notice by either side. No specific reason for termination is required.\\n222, How will my supervisor evaluate my performance during the probation period?, First three months:\\r\\nPerformance evaluation.\\r\\nFeedback sharing.\\r\\nDevelopment assessment.\\r\\nFollow-up on progress.\\r\\nNext three months:\\r\\nFinal evaluation.\\r\\nFeedback shared.\\r\\nService confirmation or discontinuation if performance is unsatisfactory.\\n223, What are the criteria for promotion?, Promotion must be aligned with the company's needs.\\r\\nThe employee must have completed 2 years of service since enrolment or the last promotion.\\r\\nA vacancy must be available for the promotion.\\r\\nThe employee must be deemed promotable by a majority of the board members.\\n224, How can I transfer my project to someone else?, Project transfers are carried out based on the management’s decision, following an official office order according to the demand for the transfer.\""
      ]
     },
     "execution_count": 62,
     "metadata": {},
     "output_type": "execute_result"
    }
   ],
   "execution_count": 62
  },
  {
   "metadata": {
    "ExecuteTime": {
     "end_time": "2024-10-13T16:25:42.938183Z",
     "start_time": "2024-10-13T16:25:42.100923Z"
    }
   },
   "cell_type": "code",
   "source": [
    "chain = prompt_template | llm\n",
    "res = chain.invoke(input={'user_question': question, 'answer': [response.source_nodes[0].text, response.source_nodes[1].text]})\n",
    "print(res.content)"
   ],
   "id": "d85dc4b5ef7d734f",
   "outputs": [
    {
     "name": "stdout",
     "output_type": "stream",
     "text": [
      "No, you cannot take unpaid leave whenever you want. According to the policy, if you exhaust your casual leave (10 days) and sick leave (13 days), any additional leave will be unpaid (Section 22).\n"
     ]
    }
   ],
   "execution_count": 54
  },
  {
   "metadata": {},
   "cell_type": "code",
   "outputs": [],
   "execution_count": null,
   "source": "",
   "id": "e28a8464ca044b2f"
  }
 ],
 "metadata": {
  "kernelspec": {
   "display_name": "Python 3",
   "language": "python",
   "name": "python3"
  },
  "language_info": {
   "codemirror_mode": {
    "name": "ipython",
    "version": 2
   },
   "file_extension": ".py",
   "mimetype": "text/x-python",
   "name": "python",
   "nbconvert_exporter": "python",
   "pygments_lexer": "ipython2",
   "version": "2.7.6"
  }
 },
 "nbformat": 4,
 "nbformat_minor": 5
}
