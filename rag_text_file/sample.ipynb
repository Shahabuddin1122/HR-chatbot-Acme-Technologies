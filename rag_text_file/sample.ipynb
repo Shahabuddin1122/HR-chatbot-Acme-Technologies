{
 "cells": [
  {
   "metadata": {},
   "cell_type": "markdown",
   "source": [
    "# This is a sample Jupyter Notebook\n",
    "\n",
    "Below is an example of a code cell. \n",
    "Put your cursor into the cell and press Shift+Enter to execute it and select the next one, or click !here goes the icon of the corresponding button in the gutter! button.\n",
    "To debug a cell, press Alt+Shift+Enter, or click !here goes the icon of the corresponding button in the gutter! button.\n",
    "\n",
    "Press Double Shift to search everywhere for classes, files, tool windows, actions, and settings.\n",
    "\n",
    "To learn more about Jupyter Notebooks in PyCharm, see [help](https://www.jetbrains.com/help/pycharm/jupyter-notebook-support.html).\n",
    "For an overview of PyCharm, go to Help -> Learn IDE features or refer to [our documentation](https://www.jetbrains.com/help/pycharm/getting-started.html)."
   ],
   "id": "8a77807f92f26ee"
  },
  {
   "metadata": {
    "ExecuteTime": {
     "end_time": "2024-10-07T16:07:37.532908Z",
     "start_time": "2024-10-07T16:07:37.498979Z"
    }
   },
   "cell_type": "code",
   "source": "import langchain",
   "id": "fbc121e30a2defb3",
   "outputs": [],
   "execution_count": 2
  },
  {
   "metadata": {
    "ExecuteTime": {
     "end_time": "2024-10-07T19:08:59.587523Z",
     "start_time": "2024-10-07T19:08:57.620565Z"
    }
   },
   "cell_type": "code",
   "source": [
    "import os\n",
    "import dotenv\n",
    "from langchain_community.document_loaders import TextLoader\n",
    "from langchain.text_splitter import RecursiveCharacterTextSplitter\n",
    "\n",
    "dotenv.load_dotenv()"
   ],
   "id": "531e9047d519f6ec",
   "outputs": [
    {
     "data": {
      "text/plain": [
       "True"
      ]
     },
     "execution_count": 1,
     "metadata": {},
     "output_type": "execute_result"
    }
   ],
   "execution_count": 1
  },
  {
   "metadata": {
    "ExecuteTime": {
     "end_time": "2024-10-07T19:09:01.752568Z",
     "start_time": "2024-10-07T19:09:01.740911Z"
    }
   },
   "cell_type": "code",
   "source": [
    "loader = TextLoader('data.txt', encoding='utf-8')\n",
    "doc = loader.load()\n",
    "doc"
   ],
   "id": "c77203057dab360e",
   "outputs": [
    {
     "data": {
      "text/plain": [
       "[Document(metadata={'source': 'data.txt'}, page_content=\"Who you are?\\nYou are a chatbot designed for ACME Technologies Ltd to answer HR-related questions. Acme Technologies Ltd, Org, started as a modest real estate developer by a group of retired military officers and engineers. Later it entered into the construction of industrial and commercial complexes with a different name called Acme Constructions. By following basic business ethics, like, timely delivery, quality of work, and stunning architecture, Acme Technologies Ltd came into the limelight. \\\\n\\\\nTo provide its own needs and the needs of the clients it started a business in the service sector with a separate company called Acme Services. \\\\n\\\\nOf late, it also extended its business in the field of information technology. Its venture in IT is named Acme AI. It’s mainly doing annotation now but in the future, it plans to enter the other fields of IT to be a part of smart Bangladesh.\\nWhat is the meaning of HR?,\\nHR stands for Human\\\\nResources. It's a department within organizations responsible for managing\\\\nemployee relations, hiring, training, benefits, and other personnel-related\\\\nfunctions.,\\nWhat are HR Policies?,\\nHR policies are\\\\nguidelines that companies set for employee relations in the workplace. These\\\\nstandardized rules ensure consistency by defining acceptable behavior,\\\\noutlining employee expectations, detailing disciplinary procedures, and\\\\nspecifying organizational responsibilities. Companies implement these policies\\\\nto demonstrate their commitment to regulatory compliance, minimum employment\\\\nstandards, training, diversity, and ethical practices.,\\nWhat is The Leave Policy?,\\nAnnual Leave (AL)\\\\n\\\\nEmployees who have worked\\\\ncontinuously for a period of 01(one) year shall be entitled to 20 (twenty) days paid annual leave in\\\\nthe every subsequent 12 (twelve) months of service.\\\\n\\\\n \\\\n\\\\nCasual Leave (CL)\\\\n\\\\n10 days in a calendar\\\\nyear. Cannot be taken for more than 01 (one) day. It can be combined with any\\\\nother leave and is non-cumulative. Allowed on pro-rata basis.\\\\n\\\\n \\\\n\\\\nSick Leave (SL)\\\\n\\\\n14 days sick leave in\\\\na calendar year. Sick leave shall only be granted on the recommendation and\\\\nunder issuance of certificate of a qualified registered doctor when it requires\\\\nmore than two (2) days (‘initial’) to be cured, if the employee fails to\\\\nfurnish the required documents, he/she shall be treated as absent, and any such\\\\nabsence will be resulted into Leave Without Pay (LWP) during that absent\\\\nperiod. Sick leave and Causal leave cannot be carried forward and accumulation\\\\nis not allowed.,\\nWhat is The Communication Policy?,\\nGeneral: A corporate office uses\\\\nvarious means of communication to better manage the corporate affairs. Modern\\\\ntechnologies made these communication means vulnerable for hacking, information\\\\nleakage and various kinds of cyber attacks. To better manage the communication\\\\nissues and guard against the above threats it is important to have proper\\\\npolicies and instructions.  \\\\nAim: To lay down comprehensive\\\\npolicies and instructions to ensure unhindered communication and guard against all kinds of information breach, hacking and cyber attacks. \\\\nScope: This policy shall have instructions and directives on all\\\\ncommunication tools namely: \\\\n\\\\na.     Phones\\\\n(Land Phones, Cell Phones, IP Phones)\\\\n\\\\nb.     Email\\\\n\\\\nc.     Meetings\\\\n\\\\nd.     Internet \\\\n\\\\ne.     Social\\\\nMedia (Viber, WhatsApp, Discord, Facebook, LinkedIn, Instagram, TikTok,\\\\nYouTube)\\\\n\\\\n \\\\n\\\\nThis policy applies to all employees, contractors, suppliers and\\\\npartners of the company.           \\\\n\\\\n            \\\\n\\\\nPhones:\\\\n\\\\nVarious types of phone communication will be used in the Group\\\\nthat are given below:\\\\n\\\\na.     Land\\\\nphones: Group Acme Corporate HQ and other concerns of Group Acme can have land\\\\nphones as required to facilitate business, admin and communication needs. \\\\n\\\\n \\\\n\\\\nb.     Cell\\\\nPhones: Cell phones will be used by all the Management Staffs in the group.\\\\nPhone Sets are to be purchased individually but SIM will be provided to all the\\\\nManagement Staffs of the Group. Management staffs have to use the company\\\\nprovided SIM. In no circumstances, one will use personal SIM for official\\\\ncommunication. Selected employees will be given cell phone allowance as per the\\\\npolicy as revised time to time. List of SIMs are to be kept with HR as well as\\\\nIT depts.  \\\\n\\\\n                            \\\\ni.     Use: Limit\\\\nprivate calls and texts using official SIM/phone. \\\\n\\\\n \\\\n\\\\n                           \\\\nii.     Security:\\\\nKeep your device secured always. Report missing and theft issues to IT/HR asap.\\\\nDon’t open any link or attachment from any unknown sources.\\\\n\\\\n \\\\n\\\\n                          \\\\niii.     Expenditure\\\\nManagement: Monthly phone allowance given to each employee is to be used for\\\\nvoice as well as data.\\\\n\\\\n \\\\n\\\\nc.     IP Phones:\\\\nWork stations of the Group (as required) will be provided with a IP phone.\\\\nIntra and inter office communication will be done through IP Phones. List of IP\\\\nphones and numbers are to be           kept\\\\nin the IT/HR depts. IT to ensure that all the IP Phones are operational all the\\\\ntime all the users are appropriately trained on the proper use of phones..\\\\n\\\\n                        \\\\n\\\\nEmail:\\\\n\\\\n \\\\n\\\\nEmails are most important\\\\nand reliable means of communication for the group. Following are to be adhered\\\\nto in respect of email communication:\\\\n\\\\n \\\\n\\\\na.     Official\\\\nEmail: Most of the employees (who needs to make written communication) will be\\\\nallotted with an official email address. For official written communication all\\\\nare to use official email. List of\\\\n\\\\n \\\\n\\\\nb.     official\\\\nEmails are to be kept with HR and IT. Official communication through any other\\\\nmail address is strictly forbidden. Disciplinary action will be taken for any\\\\nviolation of this instruction.\\\\n\\\\nc.     Personal\\\\nEmail: One may have personal Email but that can’t be used for any official\\\\ncommunication. List of personal emails are also to be kept with HR and IT.\\\\n\\\\n \\\\n\\\\nd.     Response\\\\nTime: Emails to be responded within 24 hours during business days.\\\\n\\\\n \\\\n\\\\ne.     Language:\\\\nBoth English and Bangla can be used in email but the language has to be clear,\\\\nrespectful, concise and professional.\\\\n\\\\n \\\\n\\\\nf.       Mail\\\\nTiming: Avoid sending messages outside of working hours unless urgent.\\\\n\\\\n \\\\n\\\\nMeetings: \\\\n\\\\n \\\\n\\\\nMeeting is one of the\\\\nimportant means of communication within and outside the group. Following to be\\\\ncomplied in respect of meetings:\\\\n\\\\na.     Meetings to\\\\nbe scheduled through company approved calendar system.\\\\n\\\\nb.     Prepare\\\\nagendas and share it with participants in advance.\\\\n\\\\nc.     Start and\\\\nend meetings in time.\\\\n\\\\nd.     Follow up\\\\nwith meeting minutes and action items.\\\\n\\\\n \\\\n\\\\nInternet:\\\\n\\\\n \\\\n\\\\nInternet is the basis and carrier of all communication. Use of\\\\nInternet should be as given below:\\\\n\\\\n\\\\n Internet\\\\n     connection will be given to all work stations in the offices, to all the\\\\n     industrial construction sites, and to selected employees.\\\\n Connections to be taken\\\\n     from reliable service providers.\\\\n All SIMs are also\\\\n     to be connected with Internet.\\\\n\\\\n\\\\n \\\\n\\\\nSocial Media:\\\\n\\\\n \\\\n\\\\nFollowing\\\\nsocial media can be used in Group Acme for the purposes shown against them:\\\\n\\\\n \\\\n\\\\na.     Viber: For\\\\nreporting construction progress and for communication between employees. We\\\\nshall have following groups in the Viber: Construction, Real Estate, HR,\\\\nLogistics & Attendance.\\\\n\\\\n \\\\n\\\\nb.     WhatsApp:\\\\nFor voice and data communication between the employees. We shall have following\\\\ngroups in the WhatsApp: Chairman’s Directives, Shuddhachar, Acme Directors,\\\\nICE. Individual projects can have their own WhatsApp group.\\\\n\\\\n \\\\n\\\\nc.     Discord:\\\\nFor internal operations, admin and written communication within Acme AI and\\\\nalso with the clients.\\\\n\\\\n \\\\n\\\\nd.     Facebook:\\\\nFor branding and sales promotion of the companies of the group.\\\\n\\\\n \\\\n\\\\ne.     LinkedIn:\\\\nFor branding and promotional activities.\\\\n\\\\n \\\\n\\\\nf.        Instagram: For branding and promotional\\\\nactivities targeting the younger group.\\\\n\\\\n \\\\n\\\\ng.     TikTok: For\\\\nbranding and sales promotion.\\\\n\\\\n \\\\n\\\\nh.     YouTube:\\\\nFor branding and sales promotion.\\\\n\\\\n \\\\n\\\\nUnauthorized\\\\nuse of any of the Social Media Sites by anyone is strictly prohibited.\\\\n\\\\n \\\\n\\\\nDocumentation:\\\\n\\\\n \\\\n\\\\nDocumentation\\\\nprocess in the Group shall be as under:\\\\n\\\\n \\\\n\\\\na.     Store and\\\\nshare documents on the company’s designated cloud storage (e.g., Google Drive,\\\\nSharePoint etc).\\\\n\\\\nb.     Use\\\\nstandardized templates for reports and presentations.\\\\n\\\\nc.     Keep\\\\ndocuments organized and accessible to relevant parties.\\\\n\\\\n \\\\n\\\\nExternal Communication:\\\\n\\\\n \\\\n\\\\nFollowing\\\\nto be complied for external communication:\\\\n\\\\na.     All press\\\\nreleases, interviews, and public statements must be approved by the Chairman.\\\\nDirect media inquiries to the Chairman.\\\\n\\\\n \\\\n\\\\nb.     Employees\\\\nshould follow the company’s social media norms like avoiding posting of\\\\nconfidential or sensitive informations and being respectful and professional in\\\\nall posts related to the company.\\\\n\\\\n \\\\n\\\\nc.     Provide\\\\nclear and timely responses to customer inquiries and while interacting with the\\\\ncustomers. Use the company’s customer service channels (e.g., email, phone,\\\\nchat) for communication and maintain a professional and courteous tone.\\\\n\\\\n \\\\n\\\\nConfidentiality and\\\\nSecurity: \\\\n\\\\n \\\\n\\\\nHead of IT\\\\nalong with Head of HR will be the joint admin of the Social Media Apps. Use of\\\\nthe social medias will be according to ‘need to use basis’.\\\\n\\\\n \\\\n\\\\na.     Confidential\\\\nInformation:\\\\n\\\\n                                 \\\\nI.        \\\\nDo not share confidential information with unauthorized parties.\\\\n\\\\n                               \\\\nII.        \\\\nUse encrypted communication channels for sensitive information.\\\\n\\\\n \\\\n\\\\nd.     Data\\\\nProtection:\\\\n\\\\n                                 \\\\nI.        \\\\nFollow the company’s data protection policy.\\\\n\\\\n                               \\\\nII.        \\\\nReport any data breaches or security incidents immediately.\\\\n\\\\n \\\\n\\\\nPassword Security: \\\\n\\\\n \\\\n\\\\nFollowing\\\\nare the instructions for password:\\\\n\\\\na.     Where\\\\npossible all communication tools will be password protected. \\\\n\\\\nb.     Password\\\\nwill be disseminated on need to know basis only by the admin. \\\\n\\\\nc.     Unauthorised\\\\ndissemination of password by anyone is strictly prohibited and punishable.\\\\n\\\\n \\\\n\\\\nCompliance and Monitoring:\\\\n\\\\n \\\\n\\\\na.     Compliance:\\\\nAll employees must comply with this policy. Non-compliance will result in\\\\ndisciplinary action.\\\\n\\\\nb.     Monitoring:\\\\nThe company reserves the right to monitor communication channels to ensure\\\\ncompliance with this policy.\\\\n\\\\n \\\\n\\\\nTraining and Support:\\\\n\\\\n \\\\n\\\\na.     Training:\\\\nEmployees will receive training on effective communication practices.\\\\n\\\\nb.     Support:\\\\nFor questions or support, contact the IT or HR Departments.\\\\n\\\\n \\\\n\\\\nReview and Updates:\\\\n\\\\n \\\\n\\\\nThis policy\\\\nwill be reviewed annually and will be updated as necessary.,\\nHow Many Days of Annual Public\\\\n     Holidays?,\\nHolidays list \\\\n\\\\n International Mother\\\\nLanguage Day- 21st February \\\\n\\\\n Independence Day- 26 March \\\\n\\\\n Shab-e-qadr- (date depends\\\\non moon cycle) \\\\n\\\\n Eid Al-Fitr- (date depends\\\\non moon cycle) \\\\n\\\\n Bengali New Year- 14th April\\\\n LaborDay/May Day- 1st May \\\\n\\\\n Eid Al-Adha- (date depends\\\\non moon cycle) \\\\n\\\\n Victory Day- 16th December\\\\nThe Company publishes at the beginning of the calendar year a list of paid\\\\nholidays.,\\nWhat is Increment Policy?,\\na.       Must have completed one year in the company\\\\n\\\\nb. Increment\\\\nwill be as under    \\\\n\\\\n1. Gen increment\\\\n                                 2.5% of basic\\\\n\\\\n2. Yearly\\\\nevaluation.                             \\\\n7.5% of basic max\\\\n\\\\n3.\\\\nPromotion.                                          3% of\\\\nbasic\\\\n\\\\n4. Observations\\\\nof the directors          3% of basic max\\\\n\\\\n5. Special\\\\nachievements.                       5% of\\\\nbasic max\\\\n\\\\n6. Discipline\\\\ncases.                                \\\\n-5% of basic max,\\nWhat is the salary range for this position?,\\nOfficer-16K\\\\n\\\\nExecutive- 20k\\\\n\\\\nSr. Executive-24K\\\\n\\\\nAsst. Manager-30k\\\\n\\\\nDeputy Manager-40k\\\\n\\\\nManager-60k\\\\n\\\\nAsst. General Manager-80k,\\nTermination of employment?,\\nUnsatisfactory progress during\\\\nprobation may result in extension of the probation period or termination from\\\\nthe service, at the discretion of the Company. During the period of probation,\\\\none month’s notice or payment of one month’s Basic salary in lieu of notice\\\\nwill be required on either side for termination of employment. No reason need\\\\nbe given for such termination,\\nHow Will my supervisor evaluate my\\\\n     performance? Are there specific metrics I can see?,\\nFirst Three Month\\\\n\\\\n•      \\\\nPerformance evaluation\\\\n\\\\n•      \\\\nFeedback Sharing \\\\n\\\\n•      \\\\nDevelopment assessment\\\\n\\\\n•      \\\\nFollow up\\\\n\\\\n \\\\n\\\\nNext\\\\nThree Month\\\\n\\\\n•      \\\\nFinal evaluation\\\\n\\\\n•      \\\\nFeedback shared\\\\n\\\\n•      \\\\nService confirmed\\\\n\\\\n•      \\\\nDiscontinued if not\\\\nsatisfactory,\\nWhat are the criterias for promotion?,\\n       \\\\nNeeded for the company\\\\n\\\\n       \\\\nTo complete 2 years\\\\nservice from enrolment or from last promotion\\\\n\\\\n       \\\\nShould have vacancy\\\\n\\\\n       \\\\nPromotable in the eyes\\\\nof the majority board members,\\nDo You use HRM Software?,\\nwe use ERP Software where HRM\\\\nModule is included,\\nWhat to do if you want to resign?,\\nYou are obliged to serve\\\\nminimum for two year after recruitment. Leave the job before this period\\\\nwithout one month’s prior notice, can cause deduction of salary of one month.,\\nWhat is the Exit Interview Process?,\\nTo complete your exit\\\\ninterview at Acme Technologies Ltd.: \\\\n\\\\nReceive the Form: You will be\\\\ngiven an exit interview form by the HR department. Fill Out the Form: Complete\\\\nthe form with your feedback and any other required information. \\\\n\\\\n \\\\n\\\\nSchedule the Interview:\\\\nArrange a time for your exit interview with the MD and Chairman through HR. \\\\n\\\\nAttend the Interview:\\\\nParticipate in the scheduled exit interview, where you will discuss your\\\\nfeedback and experience with the MD and Chairman. This process ensures that\\\\nyour feedback is heard and considered before your departure,\\nWhat is the turnover rate of the company?,\\nlast year, in 2023, the\\\\nturnover rate was 74.56%.,\\nWhat is the Job Description?,\\nWe provide JD designation wise,\\nHow many departments are there in the company?,\\n       \\\\nConstruction\\\\n\\\\n      \\\\nReal Estate\\\\n\\\\n       \\\\nAccounts\\\\n\\\\n       \\\\nLogistic \\\\n\\\\n       \\\\nMarketing\\\\n\\\\n       \\\\nHR\\\\n\\\\n       \\\\nIT\\\\n\\\\n       \\\\nBudget\\\\n\\\\n       \\\\nAudit\\\\n\\\\n       \\\\nBizdev,\\nWhat kind of working environment\\\\n     will you give me?,\\nI expect collaboration,\\\\nstructured hours, effective communication, access to resources, a supportive\\\\nculture, and potential flexibility for remote work, varying by\\\\ncompany and industry.,\\nHow many hours is the general\\\\n     working time?,\\nGeneral Working time 8 Hrs\\\\nper day,\\nIs there any over time?,\\nno, our company don’t allow\\\\nover time,\\nAre there any facilities to stay and\\\\n     eat?,\\nThere is no facilities to\\\\nstay and eat,\\nWhat percentage of Eid bonus is\\\\n     there?,\\nTwo festival bonuses are paid\\\\nto the eligible employee in a year during 2 Eid festivals, each equivalent to\\\\n50% of last drawn gross salary.\\\\n\\\\nFor new joiners, bonus is\\\\ndisbursed based on the following table when they\\\\n\\\\nhave not completed 6 months or not been permanent:\\\\n\\\\n\\\\n \\\\n  \\\\n  Service Tenure\\\\n  \\\\n  \\\\n  Bonus amount\\\\n  \\\\n \\\\n \\\\n  \\\\n  0 days to <1 months\\\\n  \\\\n  \\\\n  0%\\\\n  \\\\n \\\\n \\\\n  \\\\n  1 months to <2 months\\\\n  \\\\n  \\\\n  4.16% of the gross salary\\\\n  \\\\n \\\\n \\\\n  \\\\n  2 months to <3 months\\\\n  \\\\n  \\\\n  8.32% of the gross salary\\\\n  \\\\n \\\\n \\\\n  \\\\n  3 months to <4 months\\\\n  \\\\n  \\\\n  12.48% of the gross salary\\\\n  \\\\n \\\\n \\\\n  \\\\n  4 months to <5 months\\\\n  \\\\n  \\\\n  16.64% of the gross salary\\\\n  \\\\n \\\\n \\\\n  \\\\n  5 months to <6 months\\\\n  \\\\n  \\\\n  20.8% of the gross salary\\\\n  \\\\n \\\\n \\\\n  \\\\n  6 months and above\\\\n  \\\\n  \\\\n  50% of the  gross salary,\\nProvident fund, gratuity or not?,\\nwe don’t have any policy\\\\nabout provident fund & Gratuity.,\\nAny extra payment on weekly, public\\\\n     holiday duties?,\\nno, We don’t pay any extra payment on weekly pubic holiday duties,\\nWhat is the duration of\\\\n     apprenticeship and whether there are any increments during regularization?,\\nThe Duration apprenticeship\\\\nis 6 month & if his/her performance is satisfactory we provide increments\\\\nafter being permanent.,\\nWhat is your reporting system?,\\nAll Employee need to report\\\\nhis/her Immediate Senior Officer.\")]"
      ]
     },
     "execution_count": 2,
     "metadata": {},
     "output_type": "execute_result"
    }
   ],
   "execution_count": 2
  },
  {
   "metadata": {
    "ExecuteTime": {
     "end_time": "2024-10-07T19:09:06.451483Z",
     "start_time": "2024-10-07T19:09:06.442789Z"
    }
   },
   "cell_type": "code",
   "source": [
    "text_splitter = RecursiveCharacterTextSplitter(\n",
    "    chunk_size=1000,\n",
    "    chunk_overlap=200\n",
    ")\n",
    "texts = text_splitter.split_documents(doc)\n",
    "texts = texts[:50]"
   ],
   "id": "13d608acd018b48c",
   "outputs": [],
   "execution_count": 3
  },
  {
   "metadata": {
    "ExecuteTime": {
     "end_time": "2024-10-07T19:09:11.887872Z",
     "start_time": "2024-10-07T19:09:11.881008Z"
    }
   },
   "cell_type": "code",
   "source": "len(texts)",
   "id": "b7705e0f38f2f6bc",
   "outputs": [
    {
     "data": {
      "text/plain": [
       "22"
      ]
     },
     "execution_count": 4,
     "metadata": {},
     "output_type": "execute_result"
    }
   ],
   "execution_count": 4
  },
  {
   "metadata": {
    "ExecuteTime": {
     "end_time": "2024-10-07T19:09:49.479093Z",
     "start_time": "2024-10-07T19:09:48.115985Z"
    }
   },
   "cell_type": "code",
   "source": [
    "from langchain.embeddings.sentence_transformer import SentenceTransformerEmbeddings\n",
    "from langchain_community.vectorstores import Chroma\n",
    "import chromadb"
   ],
   "id": "5d0e6630cd85a4dd",
   "outputs": [],
   "execution_count": 5
  },
  {
   "metadata": {
    "ExecuteTime": {
     "end_time": "2024-10-07T19:09:57.017787Z",
     "start_time": "2024-10-07T19:09:56.619501Z"
    }
   },
   "cell_type": "code",
   "source": [
    "client = chromadb.PersistentClient(path='vectordb')\n",
    "collection = client.get_or_create_collection(name='hr_manual')\n"
   ],
   "id": "32b669380783c6d4",
   "outputs": [],
   "execution_count": 6
  },
  {
   "metadata": {
    "ExecuteTime": {
     "end_time": "2024-10-07T19:10:24.111140Z",
     "start_time": "2024-10-07T19:09:59.419379Z"
    }
   },
   "cell_type": "code",
   "source": "embedding_model = SentenceTransformerEmbeddings(model_name=\"all-MiniLM-L6-v2\")",
   "id": "e06ba08a9bda3bf4",
   "outputs": [
    {
     "name": "stderr",
     "output_type": "stream",
     "text": [
      "C:\\Users\\shahabuddin akhon hr\\AppData\\Local\\Temp\\ipykernel_15348\\2213097150.py:1: LangChainDeprecationWarning: The class `HuggingFaceEmbeddings` was deprecated in LangChain 0.2.2 and will be removed in 1.0. An updated version of the class exists in the :class:`~langchain-huggingface package and should be used instead. To use it run `pip install -U :class:`~langchain-huggingface` and import as `from :class:`~langchain_huggingface import HuggingFaceEmbeddings``.\n",
      "  embedding_model = SentenceTransformerEmbeddings(model_name=\"all-MiniLM-L6-v2\")\n",
      "C:\\Users\\shahabuddin akhon hr\\AppData\\Roaming\\Python\\Python312\\site-packages\\sentence_transformers\\cross_encoder\\CrossEncoder.py:13: TqdmExperimentalWarning: Using `tqdm.autonotebook.tqdm` in notebook mode. Use `tqdm.tqdm` instead to force console mode (e.g. in jupyter console)\n",
      "  from tqdm.autonotebook import tqdm, trange\n"
     ]
    },
    {
     "name": "stdout",
     "output_type": "stream",
     "text": [
      "WARNING:tensorflow:From C:\\Users\\shahabuddin akhon hr\\AppData\\Roaming\\Python\\Python312\\site-packages\\tf_keras\\src\\losses.py:2976: The name tf.losses.sparse_softmax_cross_entropy is deprecated. Please use tf.compat.v1.losses.sparse_softmax_cross_entropy instead.\n",
      "\n"
     ]
    },
    {
     "name": "stderr",
     "output_type": "stream",
     "text": [
      "C:\\Users\\shahabuddin akhon hr\\AppData\\Roaming\\Python\\Python312\\site-packages\\transformers\\tokenization_utils_base.py:1617: FutureWarning: `clean_up_tokenization_spaces` was not set. It will be set to `True` by default. This behavior will be deprecated in transformers v4.45, and will be then set to `False` by default. For more details check this issue: https://github.com/huggingface/transformers/issues/31884\n",
      "  warnings.warn(\n"
     ]
    }
   ],
   "execution_count": 7
  },
  {
   "metadata": {
    "ExecuteTime": {
     "end_time": "2024-10-07T19:10:30.293561Z",
     "start_time": "2024-10-07T19:10:29.176890Z"
    }
   },
   "cell_type": "code",
   "source": [
    "chroma_db = Chroma.from_documents(\n",
    "documents=texts,\n",
    "embedding=embedding_model,\n",
    "persist_directory='vectordb',\n",
    "collection_name='hr_manual'\n",
    ")"
   ],
   "id": "3d3081ec4487c730",
   "outputs": [],
   "execution_count": 8
  },
  {
   "metadata": {
    "ExecuteTime": {
     "end_time": "2024-10-07T19:10:38.885817Z",
     "start_time": "2024-10-07T19:10:38.595841Z"
    }
   },
   "cell_type": "code",
   "source": "vectordb = Chroma(persist_directory='vectordb', embedding_function=embedding_model)",
   "id": "4b94a14ed79425b3",
   "outputs": [
    {
     "name": "stderr",
     "output_type": "stream",
     "text": [
      "C:\\Users\\shahabuddin akhon hr\\AppData\\Local\\Temp\\ipykernel_15348\\3944112970.py:1: LangChainDeprecationWarning: The class `Chroma` was deprecated in LangChain 0.2.9 and will be removed in 1.0. An updated version of the class exists in the :class:`~langchain-chroma package and should be used instead. To use it run `pip install -U :class:`~langchain-chroma` and import as `from :class:`~langchain_chroma import Chroma``.\n",
      "  vectordb = Chroma(persist_directory='vectordb', embedding_function=embedding_model)\n"
     ]
    }
   ],
   "execution_count": 9
  },
  {
   "metadata": {},
   "cell_type": "markdown",
   "source": "Make a retriever",
   "id": "4004e1cd32cf9c5b"
  },
  {
   "metadata": {
    "ExecuteTime": {
     "end_time": "2024-10-07T19:10:46.922453Z",
     "start_time": "2024-10-07T19:10:46.852321Z"
    }
   },
   "cell_type": "code",
   "source": [
    "retriever = vectordb.as_retriever(search_kwargs={\"k\": 2})\n",
    "retriever.get_relevant_documents(\"What is HR\")"
   ],
   "id": "33cd85379e5b9a46",
   "outputs": [
    {
     "name": "stderr",
     "output_type": "stream",
     "text": [
      "C:\\Users\\shahabuddin akhon hr\\AppData\\Local\\Temp\\ipykernel_15348\\1917761674.py:2: LangChainDeprecationWarning: The method `BaseRetriever.get_relevant_documents` was deprecated in langchain-core 0.1.46 and will be removed in 1.0. Use :meth:`~invoke` instead.\n",
      "  retriever.get_relevant_documents(\"What is HR\")\n"
     ]
    },
    {
     "data": {
      "text/plain": [
       "[]"
      ]
     },
     "execution_count": 10,
     "metadata": {},
     "output_type": "execute_result"
    }
   ],
   "execution_count": 10
  },
  {
   "metadata": {
    "ExecuteTime": {
     "end_time": "2024-10-07T19:10:47.847763Z",
     "start_time": "2024-10-07T19:10:47.841081Z"
    }
   },
   "cell_type": "code",
   "source": "retriever.search_kwargs",
   "id": "1b38862e840b863a",
   "outputs": [
    {
     "data": {
      "text/plain": [
       "{'k': 2}"
      ]
     },
     "execution_count": 11,
     "metadata": {},
     "output_type": "execute_result"
    }
   ],
   "execution_count": 11
  },
  {
   "metadata": {
    "ExecuteTime": {
     "end_time": "2024-10-07T19:10:50.825015Z",
     "start_time": "2024-10-07T19:10:49.336784Z"
    }
   },
   "cell_type": "code",
   "source": [
    "from langchain_groq import ChatGroq\n",
    "\n",
    "llm = ChatGroq(\n",
    "    temperature=0,\n",
    "    groq_api_key=os.getenv('GROQ_API_KEY'),\n",
    "    model=\"llama-3.1-8b-instant\",\n",
    ")"
   ],
   "id": "2b5a53f7b5b76206",
   "outputs": [],
   "execution_count": 12
  },
  {
   "metadata": {
    "ExecuteTime": {
     "end_time": "2024-10-07T19:10:52.792646Z",
     "start_time": "2024-10-07T19:10:52.494890Z"
    }
   },
   "cell_type": "code",
   "source": [
    "from langchain.chains.retrieval_qa.base import RetrievalQA\n",
    "\n",
    "qa_chain = RetrievalQA.from_chain_type(llm=llm, \n",
    "                                  chain_type=\"stuff\", \n",
    "                                  retriever=retriever, \n",
    "                                  return_source_documents=True)"
   ],
   "id": "b76f281be969a3be",
   "outputs": [],
   "execution_count": 13
  },
  {
   "metadata": {
    "ExecuteTime": {
     "end_time": "2024-10-07T19:10:55.198119Z",
     "start_time": "2024-10-07T19:10:55.192731Z"
    }
   },
   "cell_type": "code",
   "source": [
    "def process_llm_response(llm_response):\n",
    "    print(llm_response['result'])"
   ],
   "id": "b01997598a766bd4",
   "outputs": [],
   "execution_count": 14
  },
  {
   "metadata": {
    "ExecuteTime": {
     "end_time": "2024-10-07T19:12:26.374467Z",
     "start_time": "2024-10-07T19:12:24.400275Z"
    }
   },
   "cell_type": "code",
   "source": [
    "# full example\n",
    "query = \"Tell me about acme technologies\"\n",
    "llm_response = qa_chain(query)\n",
    "process_llm_response(llm_response)"
   ],
   "id": "f870e2676e9c5eb9",
   "outputs": [
    {
     "name": "stdout",
     "output_type": "stream",
     "text": [
      "I don't have any information about a company called \"Acme Technologies.\" However, I do know that \"Acme\" is a common name for fictional companies in cartoons and comics, often used as a generic placeholder for a generic or humorous company. \n",
      "\n",
      "One example is the Acme Corporation from the Looney Tunes cartoons, which is often depicted as a supplier of outlandish and often malfunctioning products.\n"
     ]
    }
   ],
   "execution_count": 18
  },
  {
   "metadata": {},
   "cell_type": "code",
   "outputs": [],
   "execution_count": null,
   "source": "",
   "id": "ec9e70b0a73b6d55"
  }
 ],
 "metadata": {
  "kernelspec": {
   "display_name": "Python 3",
   "language": "python",
   "name": "python3"
  },
  "language_info": {
   "codemirror_mode": {
    "name": "ipython",
    "version": 2
   },
   "file_extension": ".py",
   "mimetype": "text/x-python",
   "name": "python",
   "nbconvert_exporter": "python",
   "pygments_lexer": "ipython2",
   "version": "2.7.6"
  }
 },
 "nbformat": 4,
 "nbformat_minor": 5
}
